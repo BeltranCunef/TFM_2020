{
 "cells": [
  {
   "cell_type": "markdown",
   "metadata": {},
   "source": [
    "# MODELADO"
   ]
  },
  {
   "cell_type": "markdown",
   "metadata": {},
   "source": [
    "# INFO"
   ]
  },
  {
   "cell_type": "markdown",
   "metadata": {},
   "source": [
    "El objetivo de este _notebook_ es realizar el proceso de modelado."
   ]
  },
  {
   "cell_type": "markdown",
   "metadata": {},
   "source": [
    "# LIBRERIAS"
   ]
  },
  {
   "cell_type": "code",
   "execution_count": 1,
   "metadata": {},
   "outputs": [
    {
     "name": "stderr",
     "output_type": "stream",
     "text": [
      "C:\\Users\\Beltran\\Anaconda3\\lib\\site-packages\\statsmodels\\tools\\_testing.py:19: FutureWarning: pandas.util.testing is deprecated. Use the functions in the public API at pandas.testing instead.\n",
      "  import pandas.util.testing as tm\n"
     ]
    }
   ],
   "source": [
    "import pandas as pd\n",
    "import numpy as np\n",
    "from numpy import mean\n",
    "\n",
    "import matplotlib.pyplot as plt\n",
    "import seaborn as sns\n",
    "\n",
    "from lightgbm import LGBMClassifier\n",
    "from sklearn.model_selection import train_test_split\n",
    "\n",
    "from sklearn import datasets\n",
    "import pickle\n",
    "from sklearn.metrics import accuracy_score\n",
    "from sklearn.metrics import f1_score\n",
    "from sklearn import model_selection\n",
    "from sklearn import metrics\n",
    "from sklearn.metrics import classification_report, confusion_matrix\n",
    "from sklearn.metrics import roc_curve, roc_auc_score, plot_roc_curve \n",
    "from sklearn.metrics import make_scorer\n",
    "from hyperopt import hp, STATUS_OK, fmin, tpe, Trials\n",
    "\n",
    "from scipy import stats as sts \n",
    "import random"
   ]
  },
  {
   "cell_type": "code",
   "execution_count": 2,
   "metadata": {},
   "outputs": [],
   "source": [
    "from numpy.ma import MaskedArray\n",
    "import sklearn.utils.fixes\n",
    "sklearn.utils.fixes.MaskedArray = MaskedArray\n",
    "import skopt\n",
    "from skopt import BayesSearchCV\n",
    "from skopt.space import Real, Categorical, Integer"
   ]
  },
  {
   "cell_type": "code",
   "execution_count": 3,
   "metadata": {},
   "outputs": [],
   "source": [
    "def conf_matrix(Y_test, Y_pred):\n",
    "    labels = ['False', 'True']\n",
    "    cnf_matrix_tra = confusion_matrix(Y_test, Y_pred)\n",
    "    conf_plot = sns.heatmap(cnf_matrix_tra, annot=True, cmap='Blues', fmt='g', xticklabels=labels, yticklabels=labels)\n",
    "    bottom, top = conf_plot.get_ylim()\n",
    "    conf_plot.set_ylim(bottom + 0.5, top - 0.5)\n",
    "    conf_plot.set_title(\"Confusion matrix, without normalization\")\n",
    "    conf_plot.set_ylabel('True Label')\n",
    "    conf_plot.set_xlabel('Predicted Label');"
   ]
  },
  {
   "cell_type": "code",
   "execution_count": 4,
   "metadata": {},
   "outputs": [],
   "source": [
    "def features_importence(coeficients):\n",
    "    data = {'Features':X_train.columns, 'Coeficients':abs(coeficients)} \n",
    "    coef = pd.DataFrame(data).sort_values(by=['Coeficients'], ascending=False)\n",
    "    fig, ax = plt.subplots(figsize=(12,10))\n",
    "    coef_plot = sns.barplot(coef['Features'],coef['Coeficients'])\n",
    "    coef_plot.set_xticklabels(coef_plot.get_xticklabels(), rotation=40, ha=\"right\");"
   ]
  },
  {
   "cell_type": "markdown",
   "metadata": {},
   "source": [
    "## Lectura de datos procesados"
   ]
  },
  {
   "cell_type": "code",
   "execution_count": 5,
   "metadata": {},
   "outputs": [],
   "source": [
    "with open(\"../data/variables_edaspy.txt\", \"rb\") as fp:\n",
    "    EDA_features = pickle.load(fp)"
   ]
  },
  {
   "cell_type": "code",
   "execution_count": 6,
   "metadata": {},
   "outputs": [],
   "source": [
    "datos = pd.read_csv('../data/datos_procesados.csv')"
   ]
  },
  {
   "cell_type": "code",
   "execution_count": 7,
   "metadata": {},
   "outputs": [],
   "source": [
    "datos = datos[EDA_features]"
   ]
  },
  {
   "cell_type": "code",
   "execution_count": 8,
   "metadata": {},
   "outputs": [
    {
     "data": {
      "text/plain": [
       "388"
      ]
     },
     "execution_count": 8,
     "metadata": {},
     "output_type": "execute_result"
    }
   ],
   "source": [
    "len(datos.columns)"
   ]
  },
  {
   "cell_type": "code",
   "execution_count": 9,
   "metadata": {},
   "outputs": [],
   "source": [
    "variables = []\n",
    "for var in datos.columns:\n",
    "    variables.append(var.replace(\" \", \"_\"))"
   ]
  },
  {
   "cell_type": "code",
   "execution_count": 10,
   "metadata": {},
   "outputs": [],
   "source": [
    "datos.columns = variables"
   ]
  },
  {
   "cell_type": "markdown",
   "metadata": {},
   "source": [
    "## Métrica"
   ]
  },
  {
   "cell_type": "markdown",
   "metadata": {},
   "source": [
    "Para poder evaluar nuestro modelo en base a la métrica de negocio hay que elimiar de la muestra los registros con los que tenemos valores imposibles en la formula del cálculo"
   ]
  },
  {
   "cell_type": "code",
   "execution_count": 11,
   "metadata": {},
   "outputs": [],
   "source": [
    "# Eliminacion de 12 registros con NAs\n",
    "datos = datos[datos['AMT_ANNUITY'].notna()]"
   ]
  },
  {
   "cell_type": "code",
   "execution_count": 12,
   "metadata": {},
   "outputs": [],
   "source": [
    "# Establecemos el interes en funcion de la cantidad pedida\n",
    "def interes(cantidad):\n",
    "    if((cantidad <= 80000)):\n",
    "        return 0.06\n",
    "\n",
    "    elif((cantidad > 80000) & (cantidad <= 150000)):\n",
    "        return 0.04\n",
    "\n",
    "    elif((cantidad > 150000) & (cantidad <= 650000)):\n",
    "        return 0.025\n",
    "\n",
    "    else:\n",
    "        return 0.0175"
   ]
  },
  {
   "cell_type": "code",
   "execution_count": 13,
   "metadata": {},
   "outputs": [],
   "source": [
    "# Los errores se producen cuando al calcular el numero de años de amortizacion del crédito\n",
    "# En ciertos registros la anualidad de los pagos es menor a los intereses del préstamo\n",
    "intereses = -datos['AMT_CREDIT'] * datos['AMT_CREDIT'].map(lambda x: interes(x))"
   ]
  },
  {
   "cell_type": "code",
   "execution_count": 14,
   "metadata": {},
   "outputs": [],
   "source": [
    "errores = abs(intereses) >= datos['AMT_ANNUITY']"
   ]
  },
  {
   "cell_type": "code",
   "execution_count": 15,
   "metadata": {},
   "outputs": [
    {
     "data": {
      "text/plain": [
       "461"
      ]
     },
     "execution_count": 15,
     "metadata": {},
     "output_type": "execute_result"
    }
   ],
   "source": [
    "sum(errores)"
   ]
  },
  {
   "cell_type": "markdown",
   "metadata": {},
   "source": [
    "Si hacemos un analisis de estos datos que nos condicionan nuestra métrica de beneficio podemos ver como se centran sobre todo en préstamos de bajo importe y con una tasa de impago menor (5.2%) a la de la muestra general (8.1%). Es posible que estos préstamos tengan condiciones especiales como un tipo de interes muy bajo por ser miembros de la entidad o clientes preferentes."
   ]
  },
  {
   "cell_type": "code",
   "execution_count": 16,
   "metadata": {},
   "outputs": [],
   "source": [
    "errores_df = datos.loc[errores.index[errores==True],['AMT_CREDIT', 'AMT_ANNUITY', 'TARGET']]"
   ]
  },
  {
   "cell_type": "code",
   "execution_count": 17,
   "metadata": {},
   "outputs": [
    {
     "data": {
      "text/plain": [
       "5.206073752711497"
      ]
     },
     "execution_count": 17,
     "metadata": {},
     "output_type": "execute_result"
    }
   ],
   "source": [
    "(errores_df.TARGET.sum()/len(errores_df))*100"
   ]
  },
  {
   "cell_type": "code",
   "execution_count": 18,
   "metadata": {},
   "outputs": [
    {
     "data": {
      "text/html": [
       "<div>\n",
       "<style scoped>\n",
       "    .dataframe tbody tr th:only-of-type {\n",
       "        vertical-align: middle;\n",
       "    }\n",
       "\n",
       "    .dataframe tbody tr th {\n",
       "        vertical-align: top;\n",
       "    }\n",
       "\n",
       "    .dataframe thead th {\n",
       "        text-align: right;\n",
       "    }\n",
       "</style>\n",
       "<table border=\"1\" class=\"dataframe\">\n",
       "  <thead>\n",
       "    <tr style=\"text-align: right;\">\n",
       "      <th></th>\n",
       "      <th>AMT_CREDIT</th>\n",
       "      <th>AMT_ANNUITY</th>\n",
       "      <th>TARGET</th>\n",
       "    </tr>\n",
       "  </thead>\n",
       "  <tbody>\n",
       "    <tr>\n",
       "      <th>214</th>\n",
       "      <td>76410.0</td>\n",
       "      <td>4513.5</td>\n",
       "      <td>0</td>\n",
       "    </tr>\n",
       "    <tr>\n",
       "      <th>1846</th>\n",
       "      <td>50940.0</td>\n",
       "      <td>2974.5</td>\n",
       "      <td>0</td>\n",
       "    </tr>\n",
       "    <tr>\n",
       "      <th>1995</th>\n",
       "      <td>130824.0</td>\n",
       "      <td>5062.5</td>\n",
       "      <td>1</td>\n",
       "    </tr>\n",
       "    <tr>\n",
       "      <th>2103</th>\n",
       "      <td>66384.0</td>\n",
       "      <td>3730.5</td>\n",
       "      <td>0</td>\n",
       "    </tr>\n",
       "    <tr>\n",
       "      <th>2755</th>\n",
       "      <td>58500.0</td>\n",
       "      <td>2844.0</td>\n",
       "      <td>1</td>\n",
       "    </tr>\n",
       "    <tr>\n",
       "      <th>...</th>\n",
       "      <td>...</td>\n",
       "      <td>...</td>\n",
       "      <td>...</td>\n",
       "    </tr>\n",
       "    <tr>\n",
       "      <th>305331</th>\n",
       "      <td>56880.0</td>\n",
       "      <td>3393.0</td>\n",
       "      <td>0</td>\n",
       "    </tr>\n",
       "    <tr>\n",
       "      <th>305556</th>\n",
       "      <td>77031.0</td>\n",
       "      <td>4063.5</td>\n",
       "      <td>0</td>\n",
       "    </tr>\n",
       "    <tr>\n",
       "      <th>306002</th>\n",
       "      <td>76410.0</td>\n",
       "      <td>4396.5</td>\n",
       "      <td>0</td>\n",
       "    </tr>\n",
       "    <tr>\n",
       "      <th>306431</th>\n",
       "      <td>142200.0</td>\n",
       "      <td>4671.0</td>\n",
       "      <td>0</td>\n",
       "    </tr>\n",
       "    <tr>\n",
       "      <th>306792</th>\n",
       "      <td>90000.0</td>\n",
       "      <td>3523.5</td>\n",
       "      <td>0</td>\n",
       "    </tr>\n",
       "  </tbody>\n",
       "</table>\n",
       "<p>461 rows × 3 columns</p>\n",
       "</div>"
      ],
      "text/plain": [
       "        AMT_CREDIT  AMT_ANNUITY  TARGET\n",
       "214        76410.0       4513.5       0\n",
       "1846       50940.0       2974.5       0\n",
       "1995      130824.0       5062.5       1\n",
       "2103       66384.0       3730.5       0\n",
       "2755       58500.0       2844.0       1\n",
       "...            ...          ...     ...\n",
       "305331     56880.0       3393.0       0\n",
       "305556     77031.0       4063.5       0\n",
       "306002     76410.0       4396.5       0\n",
       "306431    142200.0       4671.0       0\n",
       "306792     90000.0       3523.5       0\n",
       "\n",
       "[461 rows x 3 columns]"
      ]
     },
     "execution_count": 18,
     "metadata": {},
     "output_type": "execute_result"
    }
   ],
   "source": [
    "errores_df"
   ]
  },
  {
   "cell_type": "code",
   "execution_count": 19,
   "metadata": {},
   "outputs": [
    {
     "data": {
      "text/plain": [
       "<matplotlib.axes._subplots.AxesSubplot at 0x1441f362ac8>"
      ]
     },
     "execution_count": 19,
     "metadata": {},
     "output_type": "execute_result"
    },
    {
     "data": {
      "image/png": "[encoded data removed]",
      "text/plain": [
       "<Figure size 432x288 with 1 Axes>"
      ]
     },
     "metadata": {
      "needs_background": "light"
     },
     "output_type": "display_data"
    }
   ],
   "source": [
    "errores_df['AMT_CREDIT'].hist()"
   ]
  },
  {
   "cell_type": "code",
   "execution_count": 20,
   "metadata": {},
   "outputs": [],
   "source": [
    "# Elimino los errores de la muestra\n",
    "datos = datos[abs(intereses) < datos['AMT_ANNUITY']]"
   ]
  },
  {
   "cell_type": "markdown",
   "metadata": {},
   "source": [
    "Establecemos la métrica del modelo como el beneficio empresarial de los préstamos concedidos por el modelo. Esta métrica se obtiene a partir de la matriz de confusión generada en una muestra de validación del 20% y en base a unas condiciones de costes y beneficios preestablecidas según los aciertos y fallos del modelo (TP, TN, FP, FN)."
   ]
  },
  {
   "cell_type": "code",
   "execution_count": 21,
   "metadata": {},
   "outputs": [],
   "source": [
    "def my_metric(y_test, y_pred):\n",
    "    cost = 0\n",
    "    \n",
    "    # Establecemos 4 tramos de tipos de interés en funcion del importe concedido del préstamos,\n",
    "    # los tipos han sido seleccionados a partir de comparadores online de préstamos bancarios\n",
    "    # para diferentes modalidades de préstamo e importe en EsPaña.\n",
    "    \n",
    "    def interes(cantidad):\n",
    "\n",
    "        if((cantidad <= 80000)):\n",
    "            return 0.06\n",
    "\n",
    "        elif((cantidad > 80000) & (cantidad <= 150000)):\n",
    "            return 0.04\n",
    "\n",
    "        elif((cantidad > 150000) & (cantidad <= 650000)):\n",
    "            return 0.025\n",
    "\n",
    "        else:\n",
    "            return 0.0175\n",
    "    \n",
    "    for idx, pred in enumerate(y_pred):\n",
    "        \n",
    "        # Supongo que la anualidad tiene ya incoporado el tipo de interes que tiene que pagar\n",
    "        # el cliente. Como la base de datos no aporta informacion del tipo de interes hago una \n",
    "        # suposicion del tipo de interés en funcion del tamaño del prestamo y calculo el tiempo\n",
    "        # de amortización (años) del prestamo\n",
    "        \n",
    "        # Una vez calculado el tiempo de duracion del prestamo realizo la diferencia entre las \n",
    "        # suma de todas las anualidades y el importe del prestamo para obtener los intereses\n",
    "        # totales que pagaría el cliente\n",
    "        \n",
    "        amount = X_test.iloc[idx, X_test.columns.get_loc('AMT_CREDIT')]\n",
    "        annuity = X_test.iloc[idx, X_test.columns.get_loc('AMT_ANNUITY')]\n",
    "        \n",
    "        # formula sacada y despejada de aqui: \n",
    "        # https://blogs.udima.es/administracion-y-direccion-de-empresas/amortizacion-con-terminos-amortizativos-constantes-metodo-frances-i-p27-htm/\n",
    "\n",
    "        years = -np.log(-amount*interes(amount)/annuity + 1) / np.log(1 + interes(amount))\n",
    "        \n",
    "        total_interest = years*annuity - amount\n",
    "        \n",
    "        if (pred==0) & (y_test.iloc[idx]==1):\n",
    "            # pierdo el 70% del principal + el 60% de los intereses, damos por hecho que en cada cuota\n",
    "            # se van pagando principal e intereses segun un prestamo frances (cuota contante)\n",
    "            \n",
    "            cost += 0.7 * amount + 0.6 * total_interest\n",
    "            \n",
    "        elif (pred==0) & (y_test.iloc[idx]==0):\n",
    "            \n",
    "            cost -= total_interest\n",
    "        \n",
    "        elif (pred==1) & (y_test.iloc[idx]==0):\n",
    "            \n",
    "            cost += total_interest\n",
    "        \n",
    "        else:\n",
    "            # gano los interes del prestamo + no haber perdido ese 50% del principal\n",
    "            # que dejan de pagar los morosos\n",
    "            cost -= 0.7 * amount + 0.6 * total_interest\n",
    "    \n",
    "    return cost\n"
   ]
  },
  {
   "cell_type": "markdown",
   "metadata": {},
   "source": [
    "Para poder comparar si el modelo tiene efectividad se compara con el beneficio esperado del 20% de validación aplicando las mismas condiciones de costes y beneficios."
   ]
  },
  {
   "cell_type": "code",
   "execution_count": 22,
   "metadata": {},
   "outputs": [],
   "source": [
    "def metrica_sin_modelo(y_test):\n",
    "    cost=0\n",
    "    \n",
    "    def interes(cantidad):\n",
    "        if((cantidad <= 80000)):\n",
    "            return 0.06\n",
    "\n",
    "        elif((cantidad > 80000) & (cantidad <= 150000)):\n",
    "            return 0.04\n",
    "\n",
    "        elif((cantidad > 150000) & (cantidad <= 650000)):\n",
    "            return 0.025\n",
    "\n",
    "        else:\n",
    "            return 0.0175\n",
    "    \n",
    "    for idx, pred in enumerate(y_test):\n",
    "        \n",
    "        amount = X_test.iloc[idx, X_test.columns.get_loc('AMT_CREDIT')]\n",
    "        annuity = X_test.iloc[idx, X_test.columns.get_loc('AMT_ANNUITY')]\n",
    "\n",
    "        years = -np.log(-amount*interes(amount)/annuity + 1) / np.log(1 + interes(amount))\n",
    "        \n",
    "        total_interest = years*annuity - amount\n",
    "        \n",
    "        if pred==0:\n",
    "            \n",
    "            cost -= total_interest\n",
    "            \n",
    "        else:\n",
    "            cost += 0.7 * amount + 0.6 * total_interest\n",
    "    \n",
    "    return cost"
   ]
  },
  {
   "cell_type": "code",
   "execution_count": 23,
   "metadata": {},
   "outputs": [],
   "source": [
    "my_score = make_scorer(my_metric, greater_is_better=False)"
   ]
  },
  {
   "cell_type": "markdown",
   "metadata": {},
   "source": [
    "Para el entrenamiento de los modelos y métrica a optimizar elegimos el uso de la siguiente métrica:\n",
    "$\\sqrt{F_1(minoritario) * F_1(mayoritario)}$\n",
    "\n",
    "Con esta métrica icluímos una importancia equivalente a la predicción de ambas categorías del target. A partir de aqui nos referiremos a esta métrica como *F1_geom*"
   ]
  },
  {
   "cell_type": "code",
   "execution_count": 24,
   "metadata": {},
   "outputs": [],
   "source": [
    "def f1_geom(y_test, y_pred):\n",
    "    metric = (f1_score(y_test, y_pred, pos_label=0) * f1_score(y_test, y_pred, pos_label=1))**(1/2)\n",
    "    return metric"
   ]
  },
  {
   "cell_type": "code",
   "execution_count": 25,
   "metadata": {},
   "outputs": [],
   "source": [
    "geom_f1_score = make_scorer(f1_geom, greater_is_better=True)"
   ]
  },
  {
   "cell_type": "markdown",
   "metadata": {},
   "source": [
    "## Division en train y test"
   ]
  },
  {
   "cell_type": "code",
   "execution_count": 26,
   "metadata": {},
   "outputs": [],
   "source": [
    "X = datos.loc[:, datos.columns != 'TARGET']\n",
    "Y = datos['TARGET']"
   ]
  },
  {
   "cell_type": "code",
   "execution_count": 27,
   "metadata": {},
   "outputs": [],
   "source": [
    "X_train, X_test, y_train, y_test = train_test_split(X, Y, test_size=0.20, random_state=32)"
   ]
  },
  {
   "cell_type": "markdown",
   "metadata": {},
   "source": [
    "Entrenamos un primer modelo por defecto y examinamos las métricas principales que hemos considerado importantes para este proyecto (Accuracy, Recall, F1 y F1 geométrica)"
   ]
  },
  {
   "cell_type": "code",
   "execution_count": 73,
   "metadata": {},
   "outputs": [],
   "source": [
    "clf_basic = LGBMClassifier(n_estimatos=200)"
   ]
  },
  {
   "cell_type": "code",
   "execution_count": 74,
   "metadata": {},
   "outputs": [
    {
     "name": "stdout",
     "output_type": "stream",
     "text": [
      "XGBoost score train:  0.9222285551439157\n",
      "XGBoost score test:  0.9184959614382491\n",
      "XGBoost score test F1:  0.06675368264031327\n",
      "XGBoost score test F1_geom:  0.2528025355762899\n"
     ]
    }
   ],
   "source": [
    "clf_basic.fit(X_train, y_train)\n",
    "\n",
    "Y_pred = clf_basic.predict(X_test)\n",
    "\n",
    "print(\"XGBoost score train: \", accuracy_score(y_train, clf_basic.predict(X_train)))\n",
    "print(\"XGBoost score test: \", accuracy_score(y_test, Y_pred))\n",
    "print(\"XGBoost score test F1: \", f1_score(y_test, Y_pred))\n",
    "print(\"XGBoost score test F1_geom: \", f1_geom(y_test, Y_pred))"
   ]
  },
  {
   "cell_type": "markdown",
   "metadata": {},
   "source": [
    "EL modelo no tiene overfitting aunque los valores de F1 y F1_geom son bastante bajos"
   ]
  },
  {
   "cell_type": "code",
   "execution_count": 75,
   "metadata": {},
   "outputs": [
    {
     "name": "stdout",
     "output_type": "stream",
     "text": [
      "              precision    recall  f1-score   support\n",
      "\n",
      "           0       0.92      1.00      0.96     56391\n",
      "           1       0.52      0.04      0.07      5017\n",
      "\n",
      "    accuracy                           0.92     61408\n",
      "   macro avg       0.72      0.52      0.51     61408\n",
      "weighted avg       0.89      0.92      0.88     61408\n",
      "\n"
     ]
    }
   ],
   "source": [
    "print(classification_report(y_test, Y_pred))"
   ]
  },
  {
   "cell_type": "code",
   "execution_count": 51,
   "metadata": {},
   "outputs": [
    {
     "data": {
      "image/png": "[encoded data removed]",
      "text/plain": [
       "<Figure size 432x288 with 2 Axes>"
      ]
     },
     "metadata": {
      "needs_background": "light"
     },
     "output_type": "display_data"
    }
   ],
   "source": [
    "conf_matrix(y_test, Y_pred)"
   ]
  },
  {
   "cell_type": "markdown",
   "metadata": {},
   "source": [
    "Para comprobar la robustez del algoritmo se realiza validacion cruzada de 3 folds sobre F1_geom al ser la métrica que consideramos prioritaria a optimizar"
   ]
  },
  {
   "cell_type": "code",
   "execution_count": 56,
   "metadata": {},
   "outputs": [
    {
     "name": "stdout",
     "output_type": "stream",
     "text": [
      "F1_geom Score: 0.2560\n"
     ]
    }
   ],
   "source": [
    "scores = cross_val_score(clf_basic, X, Y, scoring=geom_f1_score, cv=3, n_jobs=-1)\n",
    "score = mean(scores)\n",
    "print('F1_geom Score: %.4f' % score)"
   ]
  },
  {
   "cell_type": "markdown",
   "metadata": {},
   "source": [
    "Uno de los mayores problemas es el desequilibrio existente en la variable objetivo. Para poner solucion a este aspecto se han probado diferentes tecnicas como undersampling, oversampling, aplicacion de pesos y hasta de division de diferentes muestrs para el entrenamiento de algoritmos en paralelo con diferentes proporciones de la variable objetivo"
   ]
  },
  {
   "cell_type": "markdown",
   "metadata": {},
   "source": [
    "RandomUnderSampling dio buenos resultados mejorando en gran medida tanto el F1 como el Recall de la clase minoritaria, sin embargo consideramos mejor opción la aplicacion de pesos dentro del algoritmo a las categorías por el hecho de no reducir el numero de registros de la clase mayoritatia y por tanto la eliminación de información."
   ]
  },
  {
   "cell_type": "markdown",
   "metadata": {},
   "source": [
    "Para establecer cual era la mejor proporcion de pesos a aplicar se utiliza un gridsearch del algoritmo con diferentes pesos sobre las categorías. Este gridsearch para reducir computo se ha realizado sin validación cruzada sobre el conjunto de validación y con la aplicaciond de early_stopping si la métricaintroducida no mejora en 100 iteraciones."
   ]
  },
  {
   "cell_type": "code",
   "execution_count": 70,
   "metadata": {},
   "outputs": [],
   "source": [
    "parameters = {'class_weight':[{0:1, 1:2}, {0:1, 1:3}, {0:1, 1:3.5}, {0:1, 1:4},\n",
    "                              {0:1, 1:4.3}, {0:1, 1:4.5}, {0:1, 1:4.7}, {0:1, 1:4.9},\n",
    "                              {0:1, 1:5}, {0:1, 1:6}, {0:1, 1:8}, {0:1, 1:11}]}"
   ]
  },
  {
   "cell_type": "code",
   "execution_count": 71,
   "metadata": {},
   "outputs": [],
   "source": [
    "def lgb_f1_score(y_pred, y_test):\n",
    "    y_test = np.round(y_test)\n",
    "    return 'f1_geom', (f1_score(y_test, y_pred, pos_label=0) * f1_score(y_test, y_pred, pos_label=1))**(1/2), True"
   ]
  },
  {
   "cell_type": "code",
   "execution_count": 72,
   "metadata": {},
   "outputs": [
    {
     "name": "stdout",
     "output_type": "stream",
     "text": [
      "Training until validation scores don't improve for 100 rounds\n",
      "[100]\ttraining's binary_logloss: 0.32782\ttraining's f1_geom: 0.489732\tvalid_1's binary_logloss: 0.259159\tvalid_1's f1_geom: 0.42685\n",
      "[200]\ttraining's binary_logloss: 0.304826\ttraining's f1_geom: 0.537202\tvalid_1's binary_logloss: 0.257544\tvalid_1's f1_geom: 0.432397\n",
      "Early stopping, best iteration is:\n",
      "[183]\ttraining's binary_logloss: 0.308338\ttraining's f1_geom: 0.53001\tvalid_1's binary_logloss: 0.257755\tvalid_1's f1_geom: 0.436161\n",
      "---- class_weight: {0: 1, 1: 2} ----\n",
      "Training until validation scores don't improve for 100 rounds\n",
      "[100]\ttraining's binary_logloss: 0.393737\ttraining's f1_geom: 0.5658\tvalid_1's binary_logloss: 0.288565\tvalid_1's f1_geom: 0.511082\n",
      "[200]\ttraining's binary_logloss: 0.365906\ttraining's f1_geom: 0.605618\tvalid_1's binary_logloss: 0.2847\tvalid_1's f1_geom: 0.512626\n",
      "Early stopping, best iteration is:\n",
      "[165]\ttraining's binary_logloss: 0.374807\ttraining's f1_geom: 0.591866\tvalid_1's binary_logloss: 0.285884\tvalid_1's f1_geom: 0.514543\n",
      "---- class_weight: {0: 1, 1: 3} ----\n",
      "Training until validation scores don't improve for 100 rounds\n",
      "[100]\ttraining's binary_logloss: 0.417376\ttraining's f1_geom: 0.583199\tvalid_1's binary_logloss: 0.304508\tvalid_1's f1_geom: 0.532418\n",
      "[200]\ttraining's binary_logloss: 0.387664\ttraining's f1_geom: 0.620805\tvalid_1's binary_logloss: 0.299672\tvalid_1's f1_geom: 0.530881\n",
      "Early stopping, best iteration is:\n",
      "[116]\ttraining's binary_logloss: 0.411903\ttraining's f1_geom: 0.590365\tvalid_1's binary_logloss: 0.303626\tvalid_1's f1_geom: 0.53419\n",
      "---- class_weight: {0: 1, 1: 3.5} ----\n",
      "Training until validation scores don't improve for 100 rounds\n",
      "[100]\ttraining's binary_logloss: 0.436961\ttraining's f1_geom: 0.592792\tvalid_1's binary_logloss: 0.320624\tvalid_1's f1_geom: 0.541411\n",
      "[200]\ttraining's binary_logloss: 0.406178\ttraining's f1_geom: 0.626628\tvalid_1's binary_logloss: 0.314815\tvalid_1's f1_geom: 0.542361\n",
      "Early stopping, best iteration is:\n",
      "[124]\ttraining's binary_logloss: 0.428738\ttraining's f1_geom: 0.601893\tvalid_1's binary_logloss: 0.319049\tvalid_1's f1_geom: 0.54428\n",
      "---- class_weight: {0: 1, 1: 4} ----\n",
      "Training until validation scores don't improve for 100 rounds\n",
      "[100]\ttraining's binary_logloss: 0.447619\ttraining's f1_geom: 0.592927\tvalid_1's binary_logloss: 0.330856\tvalid_1's f1_geom: 0.541548\n",
      "[200]\ttraining's binary_logloss: 0.416111\ttraining's f1_geom: 0.627611\tvalid_1's binary_logloss: 0.324315\tvalid_1's f1_geom: 0.543467\n",
      "Early stopping, best iteration is:\n",
      "[134]\ttraining's binary_logloss: 0.435738\ttraining's f1_geom: 0.605187\tvalid_1's binary_logloss: 0.328306\tvalid_1's f1_geom: 0.545132\n",
      "---- class_weight: {0: 1, 1: 4.3} ----\n",
      "Training until validation scores don't improve for 100 rounds\n",
      "[100]\ttraining's binary_logloss: 0.453294\ttraining's f1_geom: 0.594399\tvalid_1's binary_logloss: 0.337283\tvalid_1's f1_geom: 0.549173\n",
      "[200]\ttraining's binary_logloss: 0.421229\ttraining's f1_geom: 0.628559\tvalid_1's binary_logloss: 0.330077\tvalid_1's f1_geom: 0.546979\n",
      "Early stopping, best iteration is:\n",
      "[125]\ttraining's binary_logloss: 0.444299\ttraining's f1_geom: 0.603105\tvalid_1's binary_logloss: 0.335188\tvalid_1's f1_geom: 0.54964\n",
      "---- class_weight: {0: 1, 1: 4.5} ----\n",
      "Training until validation scores don't improve for 100 rounds\n",
      "[100]\ttraining's binary_logloss: 0.459288\ttraining's f1_geom: 0.59452\tvalid_1's binary_logloss: 0.343947\tvalid_1's f1_geom: 0.546002\n",
      "[200]\ttraining's binary_logloss: 0.4263\ttraining's f1_geom: 0.627818\tvalid_1's binary_logloss: 0.336178\tvalid_1's f1_geom: 0.549344\n",
      "[300]\ttraining's binary_logloss: 0.400207\ttraining's f1_geom: 0.662302\tvalid_1's binary_logloss: 0.329806\tvalid_1's f1_geom: 0.546312\n",
      "Early stopping, best iteration is:\n",
      "[214]\ttraining's binary_logloss: 0.422452\ttraining's f1_geom: 0.632345\tvalid_1's binary_logloss: 0.335148\tvalid_1's f1_geom: 0.549421\n",
      "---- class_weight: {0: 1, 1: 4.7} ----\n",
      "Training until validation scores don't improve for 100 rounds\n",
      "[100]\ttraining's binary_logloss: 0.464094\ttraining's f1_geom: 0.594517\tvalid_1's binary_logloss: 0.350117\tvalid_1's f1_geom: 0.546543\n",
      "[200]\ttraining's binary_logloss: 0.431135\ttraining's f1_geom: 0.627219\tvalid_1's binary_logloss: 0.34179\tvalid_1's f1_geom: 0.547656\n",
      "Early stopping, best iteration is:\n",
      "[141]\ttraining's binary_logloss: 0.449438\ttraining's f1_geom: 0.608204\tvalid_1's binary_logloss: 0.346291\tvalid_1's f1_geom: 0.550696\n",
      "---- class_weight: {0: 1, 1: 4.9} ----\n",
      "Training until validation scores don't improve for 100 rounds\n",
      "[100]\ttraining's binary_logloss: 0.466979\ttraining's f1_geom: 0.593289\tvalid_1's binary_logloss: 0.353863\tvalid_1's f1_geom: 0.545995\n",
      "[200]\ttraining's binary_logloss: 0.43388\ttraining's f1_geom: 0.627767\tvalid_1's binary_logloss: 0.345158\tvalid_1's f1_geom: 0.547062\n",
      "Early stopping, best iteration is:\n",
      "[155]\ttraining's binary_logloss: 0.447259\ttraining's f1_geom: 0.61288\tvalid_1's binary_logloss: 0.348554\tvalid_1's f1_geom: 0.549201\n",
      "---- class_weight: {0: 1, 1: 5} ----\n",
      "Training until validation scores don't improve for 100 rounds\n",
      "[100]\ttraining's binary_logloss: 0.487324\ttraining's f1_geom: 0.586194\tvalid_1's binary_logloss: 0.385457\tvalid_1's f1_geom: 0.54393\n",
      "[200]\ttraining's binary_logloss: 0.452021\ttraining's f1_geom: 0.619238\tvalid_1's binary_logloss: 0.374464\tvalid_1's f1_geom: 0.544208\n",
      "Early stopping, best iteration is:\n",
      "[105]\ttraining's binary_logloss: 0.484908\ttraining's f1_geom: 0.587943\tvalid_1's binary_logloss: 0.384504\tvalid_1's f1_geom: 0.546474\n",
      "---- class_weight: {0: 1, 1: 6} ----\n",
      "Training until validation scores don't improve for 100 rounds\n",
      "[100]\ttraining's binary_logloss: 0.510506\ttraining's f1_geom: 0.561737\tvalid_1's binary_logloss: 0.445464\tvalid_1's f1_geom: 0.530147\n",
      "[200]\ttraining's binary_logloss: 0.47287\ttraining's f1_geom: 0.594124\tvalid_1's binary_logloss: 0.429395\tvalid_1's f1_geom: 0.535799\n",
      "[300]\ttraining's binary_logloss: 0.443183\ttraining's f1_geom: 0.625125\tvalid_1's binary_logloss: 0.416526\tvalid_1's f1_geom: 0.536752\n",
      "[400]\ttraining's binary_logloss: 0.415811\ttraining's f1_geom: 0.654529\tvalid_1's binary_logloss: 0.404531\tvalid_1's f1_geom: 0.539278\n",
      "[500]\ttraining's binary_logloss: 0.392392\ttraining's f1_geom: 0.681342\tvalid_1's binary_logloss: 0.394223\tvalid_1's f1_geom: 0.537751\n",
      "Did not meet early stopping. Best iteration is:\n",
      "[500]\ttraining's binary_logloss: 0.392392\ttraining's f1_geom: 0.681342\tvalid_1's binary_logloss: 0.394223\tvalid_1's f1_geom: 0.537751\n",
      "---- class_weight: {0: 1, 1: 8} ----\n",
      "Training until validation scores don't improve for 100 rounds\n",
      "[100]\ttraining's binary_logloss: 0.519783\ttraining's f1_geom: 0.522015\tvalid_1's binary_logloss: 0.527305\tvalid_1's f1_geom: 0.499249\n",
      "[200]\ttraining's binary_logloss: 0.479929\ttraining's f1_geom: 0.555787\tvalid_1's binary_logloss: 0.503758\tvalid_1's f1_geom: 0.506552\n",
      "[300]\ttraining's binary_logloss: 0.448604\ttraining's f1_geom: 0.584993\tvalid_1's binary_logloss: 0.485151\tvalid_1's f1_geom: 0.512705\n",
      "[400]\ttraining's binary_logloss: 0.420712\ttraining's f1_geom: 0.612627\tvalid_1's binary_logloss: 0.467998\tvalid_1's f1_geom: 0.517377\n",
      "[500]\ttraining's binary_logloss: 0.396431\ttraining's f1_geom: 0.639071\tvalid_1's binary_logloss: 0.453602\tvalid_1's f1_geom: 0.520527\n",
      "Did not meet early stopping. Best iteration is:\n",
      "[500]\ttraining's binary_logloss: 0.396431\ttraining's f1_geom: 0.639071\tvalid_1's binary_logloss: 0.453602\tvalid_1's f1_geom: 0.520527\n",
      "---- class_weight: {0: 1, 1: 11} ----\n"
     ]
    }
   ],
   "source": [
    "weights = {}\n",
    "for param in parameters['class_weight']:\n",
    "    clf = LGBMClassifier(n_estimators=500, class_weight=param)\n",
    "    clf.fit(X_train, y_train, eval_set=[(X_train, y_train), (X_test, y_test)], \n",
    "            eval_metric= lgb_f1_score, verbose= 100, early_stopping_rounds= 100)\n",
    "    weights[f'{param}'] = clf.best_score_['valid_1']['f1_geom']\n",
    "    print(f'---- class_weight: {param} ----')"
   ]
  },
  {
   "cell_type": "markdown",
   "metadata": {},
   "source": [
    "Vemos como los mejores parametros en `class_weight` son `{0: 1, 1: 4.5}`, `{0: 1, 1: 4.7}` y  `{0: 1, 1: 4.9}`. Como termino medio decidimos quedarnos con 4.7"
   ]
  },
  {
   "cell_type": "code",
   "execution_count": 76,
   "metadata": {},
   "outputs": [
    {
     "name": "stdout",
     "output_type": "stream",
     "text": [
      "F1_geom Score: 0.5505\n"
     ]
    }
   ],
   "source": [
    "scores = cross_val_score(LGBMClassifier(n_estimatos=200,class_weight={0: 1, 1: 4.7}),\n",
    "                         X, Y, scoring=geom_f1_score, cv=3, n_jobs=-1)\n",
    "score = mean(scores)\n",
    "print('F1_geom Score: %.4f' % score)"
   ]
  },
  {
   "cell_type": "code",
   "execution_count": 77,
   "metadata": {},
   "outputs": [
    {
     "data": {
      "text/plain": [
       "array([0.55227263, 0.54843745, 0.55091537])"
      ]
     },
     "execution_count": 77,
     "metadata": {},
     "output_type": "execute_result"
    }
   ],
   "source": [
    "scores"
   ]
  },
  {
   "cell_type": "markdown",
   "metadata": {},
   "source": [
    "## Optimización hyperparametros bayesiana"
   ]
  },
  {
   "cell_type": "code",
   "execution_count": 80,
   "metadata": {},
   "outputs": [],
   "source": [
    "def status_print(optim_result):\n",
    "    \"\"\"Status callback durring bayesian hyperparameter search\"\"\"\n",
    "    all_models = pd.DataFrame(bayes_cv_tuner.cv_results_)\n",
    "    print('Model #{}\\nBest Acc: {}\\nBest params: {}\\n'.format(\n",
    "        len(all_models),\n",
    "        np.round(bayes_cv_tuner.best_score_, 4),\n",
    "        bayes_cv_tuner.best_params_)\n",
    "    )"
   ]
  },
  {
   "cell_type": "code",
   "execution_count": 87,
   "metadata": {},
   "outputs": [],
   "source": [
    "param_space = {'learning_rate': Real(0.0005, 0.1, prior='log-uniform'),\n",
    "               'n_estimators': Integer(800, 1400),\n",
    "               'min_child_weight': Real(25, 80, prior='uniform'),\n",
    "               'num_leaves': Integer(15, 60),\n",
    "               'max_depth': Integer(3, 12),\n",
    "               'subsample': Real(0.5, 1.0, prior='uniform'),\n",
    "               'colsample_bytree': Real(0.5, 1.0, prior='uniform'),\n",
    "               'reg_lambda': Real(0, 0.6, prior='uniform'),\n",
    "               'reg_alpha': Real(0, 0.6, prior='uniform'),\n",
    "               'min_split_gain': Real(0.001, 0.1, prior='uniform')\n",
    "              }"
   ]
  },
  {
   "cell_type": "code",
   "execution_count": 89,
   "metadata": {},
   "outputs": [],
   "source": [
    "bayes_cv_tuner = BayesSearchCV(\n",
    "    estimator = LGBMClassifier(n_jobs=6, class_weight={0:1, 1:4.7}),\n",
    "    search_spaces = param_space,\n",
    "    scoring = geom_f1_score,\n",
    "    n_jobs =1,\n",
    "    n_iter = 100,\n",
    "    random_state = 42,\n",
    ")"
   ]
  },
  {
   "cell_type": "code",
   "execution_count": 90,
   "metadata": {},
   "outputs": [
    {
     "name": "stdout",
     "output_type": "stream",
     "text": [
      "Model #1\n",
      "Best Acc: 0.5572\n",
      "Best params: OrderedDict([('colsample_bytree', 0.705051979426657), ('learning_rate', 0.023631362814520353), ('max_depth', 11), ('min_child_weight', 42.36897764178768), ('min_split_gain', 0.06734464687862453), ('n_estimators', 1048), ('num_leaves', 31), ('reg_alpha', 0.44370254051425234), ('reg_lambda', 0.1826779866219037), ('subsample', 0.8238957941734388)])\n",
      "\n",
      "Model #2\n",
      "Best Acc: 0.5572\n",
      "Best params: OrderedDict([('colsample_bytree', 0.705051979426657), ('learning_rate', 0.023631362814520353), ('max_depth', 11), ('min_child_weight', 42.36897764178768), ('min_split_gain', 0.06734464687862453), ('n_estimators', 1048), ('num_leaves', 31), ('reg_alpha', 0.44370254051425234), ('reg_lambda', 0.1826779866219037), ('subsample', 0.8238957941734388)])\n",
      "\n",
      "Model #3\n",
      "Best Acc: 0.5574\n",
      "Best params: OrderedDict([('colsample_bytree', 0.7224162561505759), ('learning_rate', 0.06500968839633228), ('max_depth', 4), ('min_child_weight', 48.833304102862385), ('min_split_gain', 0.019607563450367512), ('n_estimators', 1072), ('num_leaves', 22), ('reg_alpha', 0.4509315188042979), ('reg_lambda', 0.33440425382028083), ('subsample', 0.9866034888464443)])\n",
      "\n",
      "Model #4\n",
      "Best Acc: 0.5574\n",
      "Best params: OrderedDict([('colsample_bytree', 0.7224162561505759), ('learning_rate', 0.06500968839633228), ('max_depth', 4), ('min_child_weight', 48.833304102862385), ('min_split_gain', 0.019607563450367512), ('n_estimators', 1072), ('num_leaves', 22), ('reg_alpha', 0.4509315188042979), ('reg_lambda', 0.33440425382028083), ('subsample', 0.9866034888464443)])\n",
      "\n",
      "Model #5\n",
      "Best Acc: 0.5574\n",
      "Best params: OrderedDict([('colsample_bytree', 0.7224162561505759), ('learning_rate', 0.06500968839633228), ('max_depth', 4), ('min_child_weight', 48.833304102862385), ('min_split_gain', 0.019607563450367512), ('n_estimators', 1072), ('num_leaves', 22), ('reg_alpha', 0.4509315188042979), ('reg_lambda', 0.33440425382028083), ('subsample', 0.9866034888464443)])\n",
      "\n",
      "Model #6\n",
      "Best Acc: 0.5575\n",
      "Best params: OrderedDict([('colsample_bytree', 0.8670140089927842), ('learning_rate', 0.07252503508637234), ('max_depth', 4), ('min_child_weight', 35.36339104709866), ('min_split_gain', 0.08024981991421776), ('n_estimators', 1024), ('num_leaves', 36), ('reg_alpha', 0.32085909607268137), ('reg_lambda', 0.47117036228549747), ('subsample', 0.7787136018188425)])\n",
      "\n",
      "Model #7\n",
      "Best Acc: 0.5579\n",
      "Best params: OrderedDict([('colsample_bytree', 0.8085396792511581), ('learning_rate', 0.03041632202929444), ('max_depth', 6), ('min_child_weight', 73.08789124339518), ('min_split_gain', 0.059669347855251215), ('n_estimators', 1157), ('num_leaves', 44), ('reg_alpha', 0.2532495515704184), ('reg_lambda', 0.4403294911612835), ('subsample', 0.8171497855716499)])\n",
      "\n",
      "Model #8\n",
      "Best Acc: 0.5579\n",
      "Best params: OrderedDict([('colsample_bytree', 0.8085396792511581), ('learning_rate', 0.03041632202929444), ('max_depth', 6), ('min_child_weight', 73.08789124339518), ('min_split_gain', 0.059669347855251215), ('n_estimators', 1157), ('num_leaves', 44), ('reg_alpha', 0.2532495515704184), ('reg_lambda', 0.4403294911612835), ('subsample', 0.8171497855716499)])\n",
      "\n",
      "Model #9\n",
      "Best Acc: 0.5579\n",
      "Best params: OrderedDict([('colsample_bytree', 0.8085396792511581), ('learning_rate', 0.03041632202929444), ('max_depth', 6), ('min_child_weight', 73.08789124339518), ('min_split_gain', 0.059669347855251215), ('n_estimators', 1157), ('num_leaves', 44), ('reg_alpha', 0.2532495515704184), ('reg_lambda', 0.4403294911612835), ('subsample', 0.8171497855716499)])\n",
      "\n",
      "Model #10\n",
      "Best Acc: 0.5579\n",
      "Best params: OrderedDict([('colsample_bytree', 0.8085396792511581), ('learning_rate', 0.03041632202929444), ('max_depth', 6), ('min_child_weight', 73.08789124339518), ('min_split_gain', 0.059669347855251215), ('n_estimators', 1157), ('num_leaves', 44), ('reg_alpha', 0.2532495515704184), ('reg_lambda', 0.4403294911612835), ('subsample', 0.8171497855716499)])\n",
      "\n",
      "Model #11\n",
      "Best Acc: 0.5579\n",
      "Best params: OrderedDict([('colsample_bytree', 0.8085396792511581), ('learning_rate', 0.03041632202929444), ('max_depth', 6), ('min_child_weight', 73.08789124339518), ('min_split_gain', 0.059669347855251215), ('n_estimators', 1157), ('num_leaves', 44), ('reg_alpha', 0.2532495515704184), ('reg_lambda', 0.4403294911612835), ('subsample', 0.8171497855716499)])\n",
      "\n",
      "Model #12\n",
      "Best Acc: 0.5579\n",
      "Best params: OrderedDict([('colsample_bytree', 0.8085396792511581), ('learning_rate', 0.03041632202929444), ('max_depth', 6), ('min_child_weight', 73.08789124339518), ('min_split_gain', 0.059669347855251215), ('n_estimators', 1157), ('num_leaves', 44), ('reg_alpha', 0.2532495515704184), ('reg_lambda', 0.4403294911612835), ('subsample', 0.8171497855716499)])\n",
      "\n",
      "Model #13\n",
      "Best Acc: 0.5579\n",
      "Best params: OrderedDict([('colsample_bytree', 0.8085396792511581), ('learning_rate', 0.03041632202929444), ('max_depth', 6), ('min_child_weight', 73.08789124339518), ('min_split_gain', 0.059669347855251215), ('n_estimators', 1157), ('num_leaves', 44), ('reg_alpha', 0.2532495515704184), ('reg_lambda', 0.4403294911612835), ('subsample', 0.8171497855716499)])\n",
      "\n",
      "Model #14\n",
      "Best Acc: 0.5582\n",
      "Best params: OrderedDict([('colsample_bytree', 1.0), ('learning_rate', 0.07308774719625073), ('max_depth', 3), ('min_child_weight', 80.0), ('min_split_gain', 0.001), ('n_estimators', 1400), ('num_leaves', 15), ('reg_alpha', 0.48090072060012895), ('reg_lambda', 0.6), ('subsample', 1.0)])\n",
      "\n",
      "Model #15\n",
      "Best Acc: 0.5582\n",
      "Best params: OrderedDict([('colsample_bytree', 1.0), ('learning_rate', 0.07308774719625073), ('max_depth', 3), ('min_child_weight', 80.0), ('min_split_gain', 0.001), ('n_estimators', 1400), ('num_leaves', 15), ('reg_alpha', 0.48090072060012895), ('reg_lambda', 0.6), ('subsample', 1.0)])\n",
      "\n",
      "Model #16\n",
      "Best Acc: 0.5582\n",
      "Best params: OrderedDict([('colsample_bytree', 1.0), ('learning_rate', 0.07308774719625073), ('max_depth', 3), ('min_child_weight', 80.0), ('min_split_gain', 0.001), ('n_estimators', 1400), ('num_leaves', 15), ('reg_alpha', 0.48090072060012895), ('reg_lambda', 0.6), ('subsample', 1.0)])\n",
      "\n",
      "Model #17\n",
      "Best Acc: 0.5582\n",
      "Best params: OrderedDict([('colsample_bytree', 1.0), ('learning_rate', 0.07308774719625073), ('max_depth', 3), ('min_child_weight', 80.0), ('min_split_gain', 0.001), ('n_estimators', 1400), ('num_leaves', 15), ('reg_alpha', 0.48090072060012895), ('reg_lambda', 0.6), ('subsample', 1.0)])\n",
      "\n",
      "Model #18\n",
      "Best Acc: 0.5582\n",
      "Best params: OrderedDict([('colsample_bytree', 1.0), ('learning_rate', 0.07308774719625073), ('max_depth', 3), ('min_child_weight', 80.0), ('min_split_gain', 0.001), ('n_estimators', 1400), ('num_leaves', 15), ('reg_alpha', 0.48090072060012895), ('reg_lambda', 0.6), ('subsample', 1.0)])\n",
      "\n",
      "Model #19\n",
      "Best Acc: 0.5582\n",
      "Best params: OrderedDict([('colsample_bytree', 1.0), ('learning_rate', 0.07308774719625073), ('max_depth', 3), ('min_child_weight', 80.0), ('min_split_gain', 0.001), ('n_estimators', 1400), ('num_leaves', 15), ('reg_alpha', 0.48090072060012895), ('reg_lambda', 0.6), ('subsample', 1.0)])\n",
      "\n",
      "Model #20\n",
      "Best Acc: 0.5582\n",
      "Best params: OrderedDict([('colsample_bytree', 1.0), ('learning_rate', 0.07308774719625073), ('max_depth', 3), ('min_child_weight', 80.0), ('min_split_gain', 0.001), ('n_estimators', 1400), ('num_leaves', 15), ('reg_alpha', 0.48090072060012895), ('reg_lambda', 0.6), ('subsample', 1.0)])\n",
      "\n",
      "Model #21\n",
      "Best Acc: 0.5582\n",
      "Best params: OrderedDict([('colsample_bytree', 1.0), ('learning_rate', 0.07308774719625073), ('max_depth', 3), ('min_child_weight', 80.0), ('min_split_gain', 0.001), ('n_estimators', 1400), ('num_leaves', 15), ('reg_alpha', 0.48090072060012895), ('reg_lambda', 0.6), ('subsample', 1.0)])\n",
      "\n",
      "Model #22\n",
      "Best Acc: 0.5582\n",
      "Best params: OrderedDict([('colsample_bytree', 1.0), ('learning_rate', 0.07308774719625073), ('max_depth', 3), ('min_child_weight', 80.0), ('min_split_gain', 0.001), ('n_estimators', 1400), ('num_leaves', 15), ('reg_alpha', 0.48090072060012895), ('reg_lambda', 0.6), ('subsample', 1.0)])\n",
      "\n",
      "Model #23\n",
      "Best Acc: 0.5582\n",
      "Best params: OrderedDict([('colsample_bytree', 1.0), ('learning_rate', 0.07308774719625073), ('max_depth', 3), ('min_child_weight', 80.0), ('min_split_gain', 0.001), ('n_estimators', 1400), ('num_leaves', 15), ('reg_alpha', 0.48090072060012895), ('reg_lambda', 0.6), ('subsample', 1.0)])\n",
      "\n"
     ]
    },
    {
     "name": "stdout",
     "output_type": "stream",
     "text": [
      "Model #24\n",
      "Best Acc: 0.5582\n",
      "Best params: OrderedDict([('colsample_bytree', 1.0), ('learning_rate', 0.07308774719625073), ('max_depth', 3), ('min_child_weight', 80.0), ('min_split_gain', 0.001), ('n_estimators', 1400), ('num_leaves', 15), ('reg_alpha', 0.48090072060012895), ('reg_lambda', 0.6), ('subsample', 1.0)])\n",
      "\n",
      "Model #25\n",
      "Best Acc: 0.5582\n",
      "Best params: OrderedDict([('colsample_bytree', 1.0), ('learning_rate', 0.07308774719625073), ('max_depth', 3), ('min_child_weight', 80.0), ('min_split_gain', 0.001), ('n_estimators', 1400), ('num_leaves', 15), ('reg_alpha', 0.48090072060012895), ('reg_lambda', 0.6), ('subsample', 1.0)])\n",
      "\n",
      "Model #26\n",
      "Best Acc: 0.5582\n",
      "Best params: OrderedDict([('colsample_bytree', 1.0), ('learning_rate', 0.07308774719625073), ('max_depth', 3), ('min_child_weight', 80.0), ('min_split_gain', 0.001), ('n_estimators', 1400), ('num_leaves', 15), ('reg_alpha', 0.48090072060012895), ('reg_lambda', 0.6), ('subsample', 1.0)])\n",
      "\n",
      "Model #27\n",
      "Best Acc: 0.559\n",
      "Best params: OrderedDict([('colsample_bytree', 0.5), ('learning_rate', 0.03685792794812381), ('max_depth', 6), ('min_child_weight', 80.0), ('min_split_gain', 0.001), ('n_estimators', 1400), ('num_leaves', 15), ('reg_alpha', 0.0), ('reg_lambda', 0.0), ('subsample', 1.0)])\n",
      "\n",
      "Model #28\n",
      "Best Acc: 0.559\n",
      "Best params: OrderedDict([('colsample_bytree', 0.5), ('learning_rate', 0.03685792794812381), ('max_depth', 6), ('min_child_weight', 80.0), ('min_split_gain', 0.001), ('n_estimators', 1400), ('num_leaves', 15), ('reg_alpha', 0.0), ('reg_lambda', 0.0), ('subsample', 1.0)])\n",
      "\n",
      "Model #29\n",
      "Best Acc: 0.559\n",
      "Best params: OrderedDict([('colsample_bytree', 0.5), ('learning_rate', 0.03685792794812381), ('max_depth', 6), ('min_child_weight', 80.0), ('min_split_gain', 0.001), ('n_estimators', 1400), ('num_leaves', 15), ('reg_alpha', 0.0), ('reg_lambda', 0.0), ('subsample', 1.0)])\n",
      "\n",
      "Model #30\n",
      "Best Acc: 0.559\n",
      "Best params: OrderedDict([('colsample_bytree', 0.5), ('learning_rate', 0.03685792794812381), ('max_depth', 6), ('min_child_weight', 80.0), ('min_split_gain', 0.001), ('n_estimators', 1400), ('num_leaves', 15), ('reg_alpha', 0.0), ('reg_lambda', 0.0), ('subsample', 1.0)])\n",
      "\n",
      "Model #31\n",
      "Best Acc: 0.559\n",
      "Best params: OrderedDict([('colsample_bytree', 0.5), ('learning_rate', 0.03685792794812381), ('max_depth', 6), ('min_child_weight', 80.0), ('min_split_gain', 0.001), ('n_estimators', 1400), ('num_leaves', 15), ('reg_alpha', 0.0), ('reg_lambda', 0.0), ('subsample', 1.0)])\n",
      "\n",
      "Model #32\n",
      "Best Acc: 0.559\n",
      "Best params: OrderedDict([('colsample_bytree', 0.5), ('learning_rate', 0.03685792794812381), ('max_depth', 6), ('min_child_weight', 80.0), ('min_split_gain', 0.001), ('n_estimators', 1400), ('num_leaves', 15), ('reg_alpha', 0.0), ('reg_lambda', 0.0), ('subsample', 1.0)])\n",
      "\n",
      "Model #33\n",
      "Best Acc: 0.559\n",
      "Best params: OrderedDict([('colsample_bytree', 0.5), ('learning_rate', 0.03685792794812381), ('max_depth', 6), ('min_child_weight', 80.0), ('min_split_gain', 0.001), ('n_estimators', 1400), ('num_leaves', 15), ('reg_alpha', 0.0), ('reg_lambda', 0.0), ('subsample', 1.0)])\n",
      "\n",
      "Model #34\n",
      "Best Acc: 0.559\n",
      "Best params: OrderedDict([('colsample_bytree', 0.5), ('learning_rate', 0.03685792794812381), ('max_depth', 6), ('min_child_weight', 80.0), ('min_split_gain', 0.001), ('n_estimators', 1400), ('num_leaves', 15), ('reg_alpha', 0.0), ('reg_lambda', 0.0), ('subsample', 1.0)])\n",
      "\n",
      "Model #35\n",
      "Best Acc: 0.559\n",
      "Best params: OrderedDict([('colsample_bytree', 0.5), ('learning_rate', 0.03685792794812381), ('max_depth', 6), ('min_child_weight', 80.0), ('min_split_gain', 0.001), ('n_estimators', 1400), ('num_leaves', 15), ('reg_alpha', 0.0), ('reg_lambda', 0.0), ('subsample', 1.0)])\n",
      "\n",
      "Model #36\n",
      "Best Acc: 0.559\n",
      "Best params: OrderedDict([('colsample_bytree', 0.5), ('learning_rate', 0.03685792794812381), ('max_depth', 6), ('min_child_weight', 80.0), ('min_split_gain', 0.001), ('n_estimators', 1400), ('num_leaves', 15), ('reg_alpha', 0.0), ('reg_lambda', 0.0), ('subsample', 1.0)])\n",
      "\n",
      "Model #37\n",
      "Best Acc: 0.559\n",
      "Best params: OrderedDict([('colsample_bytree', 0.5), ('learning_rate', 0.03685792794812381), ('max_depth', 6), ('min_child_weight', 80.0), ('min_split_gain', 0.001), ('n_estimators', 1400), ('num_leaves', 15), ('reg_alpha', 0.0), ('reg_lambda', 0.0), ('subsample', 1.0)])\n",
      "\n",
      "Model #38\n",
      "Best Acc: 0.559\n",
      "Best params: OrderedDict([('colsample_bytree', 0.5), ('learning_rate', 0.03685792794812381), ('max_depth', 6), ('min_child_weight', 80.0), ('min_split_gain', 0.001), ('n_estimators', 1400), ('num_leaves', 15), ('reg_alpha', 0.0), ('reg_lambda', 0.0), ('subsample', 1.0)])\n",
      "\n",
      "Model #39\n",
      "Best Acc: 0.559\n",
      "Best params: OrderedDict([('colsample_bytree', 0.5), ('learning_rate', 0.03685792794812381), ('max_depth', 6), ('min_child_weight', 80.0), ('min_split_gain', 0.001), ('n_estimators', 1400), ('num_leaves', 15), ('reg_alpha', 0.0), ('reg_lambda', 0.0), ('subsample', 1.0)])\n",
      "\n",
      "Model #40\n",
      "Best Acc: 0.559\n",
      "Best params: OrderedDict([('colsample_bytree', 0.5), ('learning_rate', 0.03685792794812381), ('max_depth', 6), ('min_child_weight', 80.0), ('min_split_gain', 0.001), ('n_estimators', 1400), ('num_leaves', 15), ('reg_alpha', 0.0), ('reg_lambda', 0.0), ('subsample', 1.0)])\n",
      "\n",
      "Model #41\n",
      "Best Acc: 0.559\n",
      "Best params: OrderedDict([('colsample_bytree', 0.5), ('learning_rate', 0.03685792794812381), ('max_depth', 6), ('min_child_weight', 80.0), ('min_split_gain', 0.001), ('n_estimators', 1400), ('num_leaves', 15), ('reg_alpha', 0.0), ('reg_lambda', 0.0), ('subsample', 1.0)])\n",
      "\n",
      "Model #42\n",
      "Best Acc: 0.559\n",
      "Best params: OrderedDict([('colsample_bytree', 0.5), ('learning_rate', 0.03685792794812381), ('max_depth', 6), ('min_child_weight', 80.0), ('min_split_gain', 0.001), ('n_estimators', 1400), ('num_leaves', 15), ('reg_alpha', 0.0), ('reg_lambda', 0.0), ('subsample', 1.0)])\n",
      "\n",
      "Model #43\n",
      "Best Acc: 0.559\n",
      "Best params: OrderedDict([('colsample_bytree', 0.5), ('learning_rate', 0.03685792794812381), ('max_depth', 6), ('min_child_weight', 80.0), ('min_split_gain', 0.001), ('n_estimators', 1400), ('num_leaves', 15), ('reg_alpha', 0.0), ('reg_lambda', 0.0), ('subsample', 1.0)])\n",
      "\n",
      "Model #44\n",
      "Best Acc: 0.559\n",
      "Best params: OrderedDict([('colsample_bytree', 0.5), ('learning_rate', 0.03685792794812381), ('max_depth', 6), ('min_child_weight', 80.0), ('min_split_gain', 0.001), ('n_estimators', 1400), ('num_leaves', 15), ('reg_alpha', 0.0), ('reg_lambda', 0.0), ('subsample', 1.0)])\n",
      "\n",
      "Model #45\n",
      "Best Acc: 0.559\n",
      "Best params: OrderedDict([('colsample_bytree', 0.5), ('learning_rate', 0.03685792794812381), ('max_depth', 6), ('min_child_weight', 80.0), ('min_split_gain', 0.001), ('n_estimators', 1400), ('num_leaves', 15), ('reg_alpha', 0.0), ('reg_lambda', 0.0), ('subsample', 1.0)])\n",
      "\n",
      "Model #46\n",
      "Best Acc: 0.559\n",
      "Best params: OrderedDict([('colsample_bytree', 0.5), ('learning_rate', 0.03685792794812381), ('max_depth', 6), ('min_child_weight', 80.0), ('min_split_gain', 0.001), ('n_estimators', 1400), ('num_leaves', 15), ('reg_alpha', 0.0), ('reg_lambda', 0.0), ('subsample', 1.0)])\n",
      "\n",
      "Model #47\n",
      "Best Acc: 0.559\n",
      "Best params: OrderedDict([('colsample_bytree', 0.5), ('learning_rate', 0.03685792794812381), ('max_depth', 6), ('min_child_weight', 80.0), ('min_split_gain', 0.001), ('n_estimators', 1400), ('num_leaves', 15), ('reg_alpha', 0.0), ('reg_lambda', 0.0), ('subsample', 1.0)])\n",
      "\n",
      "Model #48\n",
      "Best Acc: 0.559\n",
      "Best params: OrderedDict([('colsample_bytree', 0.5), ('learning_rate', 0.03685792794812381), ('max_depth', 6), ('min_child_weight', 80.0), ('min_split_gain', 0.001), ('n_estimators', 1400), ('num_leaves', 15), ('reg_alpha', 0.0), ('reg_lambda', 0.0), ('subsample', 1.0)])\n",
      "\n",
      "Model #49\n",
      "Best Acc: 0.559\n",
      "Best params: OrderedDict([('colsample_bytree', 0.5), ('learning_rate', 0.03685792794812381), ('max_depth', 6), ('min_child_weight', 80.0), ('min_split_gain', 0.001), ('n_estimators', 1400), ('num_leaves', 15), ('reg_alpha', 0.0), ('reg_lambda', 0.0), ('subsample', 1.0)])\n",
      "\n",
      "Model #50\n",
      "Best Acc: 0.559\n",
      "Best params: OrderedDict([('colsample_bytree', 0.5), ('learning_rate', 0.03685792794812381), ('max_depth', 6), ('min_child_weight', 80.0), ('min_split_gain', 0.001), ('n_estimators', 1400), ('num_leaves', 15), ('reg_alpha', 0.0), ('reg_lambda', 0.0), ('subsample', 1.0)])\n",
      "\n",
      "Model #51\n",
      "Best Acc: 0.5592\n",
      "Best params: OrderedDict([('colsample_bytree', 0.5), ('learning_rate', 0.04044720178729437), ('max_depth', 6), ('min_child_weight', 80.0), ('min_split_gain', 0.001), ('n_estimators', 1400), ('num_leaves', 15), ('reg_alpha', 0.6), ('reg_lambda', 0.6), ('subsample', 1.0)])\n",
      "\n"
     ]
    },
    {
     "name": "stdout",
     "output_type": "stream",
     "text": [
      "Model #52\n",
      "Best Acc: 0.5592\n",
      "Best params: OrderedDict([('colsample_bytree', 0.5), ('learning_rate', 0.04044720178729437), ('max_depth', 6), ('min_child_weight', 80.0), ('min_split_gain', 0.001), ('n_estimators', 1400), ('num_leaves', 15), ('reg_alpha', 0.6), ('reg_lambda', 0.6), ('subsample', 1.0)])\n",
      "\n",
      "Model #53\n",
      "Best Acc: 0.5592\n",
      "Best params: OrderedDict([('colsample_bytree', 0.5), ('learning_rate', 0.04044720178729437), ('max_depth', 6), ('min_child_weight', 80.0), ('min_split_gain', 0.001), ('n_estimators', 1400), ('num_leaves', 15), ('reg_alpha', 0.6), ('reg_lambda', 0.6), ('subsample', 1.0)])\n",
      "\n",
      "Model #54\n",
      "Best Acc: 0.5592\n",
      "Best params: OrderedDict([('colsample_bytree', 0.5), ('learning_rate', 0.04044720178729437), ('max_depth', 6), ('min_child_weight', 80.0), ('min_split_gain', 0.001), ('n_estimators', 1400), ('num_leaves', 15), ('reg_alpha', 0.6), ('reg_lambda', 0.6), ('subsample', 1.0)])\n",
      "\n",
      "Model #55\n",
      "Best Acc: 0.5592\n",
      "Best params: OrderedDict([('colsample_bytree', 0.5), ('learning_rate', 0.04044720178729437), ('max_depth', 6), ('min_child_weight', 80.0), ('min_split_gain', 0.001), ('n_estimators', 1400), ('num_leaves', 15), ('reg_alpha', 0.6), ('reg_lambda', 0.6), ('subsample', 1.0)])\n",
      "\n",
      "Model #56\n",
      "Best Acc: 0.5592\n",
      "Best params: OrderedDict([('colsample_bytree', 0.5), ('learning_rate', 0.04044720178729437), ('max_depth', 6), ('min_child_weight', 80.0), ('min_split_gain', 0.001), ('n_estimators', 1400), ('num_leaves', 15), ('reg_alpha', 0.6), ('reg_lambda', 0.6), ('subsample', 1.0)])\n",
      "\n",
      "Model #57\n",
      "Best Acc: 0.5592\n",
      "Best params: OrderedDict([('colsample_bytree', 0.5), ('learning_rate', 0.04044720178729437), ('max_depth', 6), ('min_child_weight', 80.0), ('min_split_gain', 0.001), ('n_estimators', 1400), ('num_leaves', 15), ('reg_alpha', 0.6), ('reg_lambda', 0.6), ('subsample', 1.0)])\n",
      "\n",
      "Model #58\n",
      "Best Acc: 0.5592\n",
      "Best params: OrderedDict([('colsample_bytree', 0.5), ('learning_rate', 0.04044720178729437), ('max_depth', 6), ('min_child_weight', 80.0), ('min_split_gain', 0.001), ('n_estimators', 1400), ('num_leaves', 15), ('reg_alpha', 0.6), ('reg_lambda', 0.6), ('subsample', 1.0)])\n",
      "\n",
      "Model #59\n",
      "Best Acc: 0.5592\n",
      "Best params: OrderedDict([('colsample_bytree', 0.5), ('learning_rate', 0.04044720178729437), ('max_depth', 6), ('min_child_weight', 80.0), ('min_split_gain', 0.001), ('n_estimators', 1400), ('num_leaves', 15), ('reg_alpha', 0.6), ('reg_lambda', 0.6), ('subsample', 1.0)])\n",
      "\n",
      "Model #60\n",
      "Best Acc: 0.5592\n",
      "Best params: OrderedDict([('colsample_bytree', 0.5), ('learning_rate', 0.04044720178729437), ('max_depth', 6), ('min_child_weight', 80.0), ('min_split_gain', 0.001), ('n_estimators', 1400), ('num_leaves', 15), ('reg_alpha', 0.6), ('reg_lambda', 0.6), ('subsample', 1.0)])\n",
      "\n",
      "Model #61\n",
      "Best Acc: 0.5592\n",
      "Best params: OrderedDict([('colsample_bytree', 0.5), ('learning_rate', 0.04044720178729437), ('max_depth', 6), ('min_child_weight', 80.0), ('min_split_gain', 0.001), ('n_estimators', 1400), ('num_leaves', 15), ('reg_alpha', 0.6), ('reg_lambda', 0.6), ('subsample', 1.0)])\n",
      "\n",
      "Model #62\n",
      "Best Acc: 0.5592\n",
      "Best params: OrderedDict([('colsample_bytree', 0.5), ('learning_rate', 0.04044720178729437), ('max_depth', 6), ('min_child_weight', 80.0), ('min_split_gain', 0.001), ('n_estimators', 1400), ('num_leaves', 15), ('reg_alpha', 0.6), ('reg_lambda', 0.6), ('subsample', 1.0)])\n",
      "\n",
      "Model #63\n",
      "Best Acc: 0.5592\n",
      "Best params: OrderedDict([('colsample_bytree', 0.5), ('learning_rate', 0.04044720178729437), ('max_depth', 6), ('min_child_weight', 80.0), ('min_split_gain', 0.001), ('n_estimators', 1400), ('num_leaves', 15), ('reg_alpha', 0.6), ('reg_lambda', 0.6), ('subsample', 1.0)])\n",
      "\n",
      "Model #64\n",
      "Best Acc: 0.5592\n",
      "Best params: OrderedDict([('colsample_bytree', 0.5), ('learning_rate', 0.04044720178729437), ('max_depth', 6), ('min_child_weight', 80.0), ('min_split_gain', 0.001), ('n_estimators', 1400), ('num_leaves', 15), ('reg_alpha', 0.6), ('reg_lambda', 0.6), ('subsample', 1.0)])\n",
      "\n",
      "Model #65\n",
      "Best Acc: 0.5592\n",
      "Best params: OrderedDict([('colsample_bytree', 0.5), ('learning_rate', 0.04044720178729437), ('max_depth', 6), ('min_child_weight', 80.0), ('min_split_gain', 0.001), ('n_estimators', 1400), ('num_leaves', 15), ('reg_alpha', 0.6), ('reg_lambda', 0.6), ('subsample', 1.0)])\n",
      "\n",
      "Model #66\n",
      "Best Acc: 0.5592\n",
      "Best params: OrderedDict([('colsample_bytree', 0.5), ('learning_rate', 0.04044720178729437), ('max_depth', 6), ('min_child_weight', 80.0), ('min_split_gain', 0.001), ('n_estimators', 1400), ('num_leaves', 15), ('reg_alpha', 0.6), ('reg_lambda', 0.6), ('subsample', 1.0)])\n",
      "\n",
      "Model #67\n",
      "Best Acc: 0.5592\n",
      "Best params: OrderedDict([('colsample_bytree', 0.5), ('learning_rate', 0.04044720178729437), ('max_depth', 6), ('min_child_weight', 80.0), ('min_split_gain', 0.001), ('n_estimators', 1400), ('num_leaves', 15), ('reg_alpha', 0.6), ('reg_lambda', 0.6), ('subsample', 1.0)])\n",
      "\n",
      "Model #68\n",
      "Best Acc: 0.5592\n",
      "Best params: OrderedDict([('colsample_bytree', 0.5), ('learning_rate', 0.04044720178729437), ('max_depth', 6), ('min_child_weight', 80.0), ('min_split_gain', 0.001), ('n_estimators', 1400), ('num_leaves', 15), ('reg_alpha', 0.6), ('reg_lambda', 0.6), ('subsample', 1.0)])\n",
      "\n",
      "Model #69\n",
      "Best Acc: 0.5592\n",
      "Best params: OrderedDict([('colsample_bytree', 0.5), ('learning_rate', 0.04044720178729437), ('max_depth', 6), ('min_child_weight', 80.0), ('min_split_gain', 0.001), ('n_estimators', 1400), ('num_leaves', 15), ('reg_alpha', 0.6), ('reg_lambda', 0.6), ('subsample', 1.0)])\n",
      "\n",
      "Model #70\n",
      "Best Acc: 0.5592\n",
      "Best params: OrderedDict([('colsample_bytree', 0.5), ('learning_rate', 0.04044720178729437), ('max_depth', 6), ('min_child_weight', 80.0), ('min_split_gain', 0.001), ('n_estimators', 1400), ('num_leaves', 15), ('reg_alpha', 0.6), ('reg_lambda', 0.6), ('subsample', 1.0)])\n",
      "\n",
      "Model #71\n",
      "Best Acc: 0.5592\n",
      "Best params: OrderedDict([('colsample_bytree', 0.5), ('learning_rate', 0.04044720178729437), ('max_depth', 6), ('min_child_weight', 80.0), ('min_split_gain', 0.001), ('n_estimators', 1400), ('num_leaves', 15), ('reg_alpha', 0.6), ('reg_lambda', 0.6), ('subsample', 1.0)])\n",
      "\n",
      "Model #72\n",
      "Best Acc: 0.5592\n",
      "Best params: OrderedDict([('colsample_bytree', 0.5), ('learning_rate', 0.04044720178729437), ('max_depth', 6), ('min_child_weight', 80.0), ('min_split_gain', 0.001), ('n_estimators', 1400), ('num_leaves', 15), ('reg_alpha', 0.6), ('reg_lambda', 0.6), ('subsample', 1.0)])\n",
      "\n",
      "Model #73\n",
      "Best Acc: 0.5592\n",
      "Best params: OrderedDict([('colsample_bytree', 0.5), ('learning_rate', 0.04044720178729437), ('max_depth', 6), ('min_child_weight', 80.0), ('min_split_gain', 0.001), ('n_estimators', 1400), ('num_leaves', 15), ('reg_alpha', 0.6), ('reg_lambda', 0.6), ('subsample', 1.0)])\n",
      "\n",
      "Model #74\n",
      "Best Acc: 0.5592\n",
      "Best params: OrderedDict([('colsample_bytree', 0.5), ('learning_rate', 0.04044720178729437), ('max_depth', 6), ('min_child_weight', 80.0), ('min_split_gain', 0.001), ('n_estimators', 1400), ('num_leaves', 15), ('reg_alpha', 0.6), ('reg_lambda', 0.6), ('subsample', 1.0)])\n",
      "\n",
      "Model #75\n",
      "Best Acc: 0.5592\n",
      "Best params: OrderedDict([('colsample_bytree', 0.5), ('learning_rate', 0.04044720178729437), ('max_depth', 6), ('min_child_weight', 80.0), ('min_split_gain', 0.001), ('n_estimators', 1400), ('num_leaves', 15), ('reg_alpha', 0.6), ('reg_lambda', 0.6), ('subsample', 1.0)])\n",
      "\n",
      "Model #76\n",
      "Best Acc: 0.5592\n",
      "Best params: OrderedDict([('colsample_bytree', 0.5), ('learning_rate', 0.04044720178729437), ('max_depth', 6), ('min_child_weight', 80.0), ('min_split_gain', 0.001), ('n_estimators', 1400), ('num_leaves', 15), ('reg_alpha', 0.6), ('reg_lambda', 0.6), ('subsample', 1.0)])\n",
      "\n",
      "Model #77\n",
      "Best Acc: 0.5592\n",
      "Best params: OrderedDict([('colsample_bytree', 0.5), ('learning_rate', 0.04044720178729437), ('max_depth', 6), ('min_child_weight', 80.0), ('min_split_gain', 0.001), ('n_estimators', 1400), ('num_leaves', 15), ('reg_alpha', 0.6), ('reg_lambda', 0.6), ('subsample', 1.0)])\n",
      "\n",
      "Model #78\n",
      "Best Acc: 0.5592\n",
      "Best params: OrderedDict([('colsample_bytree', 0.5), ('learning_rate', 0.04044720178729437), ('max_depth', 6), ('min_child_weight', 80.0), ('min_split_gain', 0.001), ('n_estimators', 1400), ('num_leaves', 15), ('reg_alpha', 0.6), ('reg_lambda', 0.6), ('subsample', 1.0)])\n",
      "\n",
      "Model #79\n",
      "Best Acc: 0.5592\n",
      "Best params: OrderedDict([('colsample_bytree', 0.5), ('learning_rate', 0.04044720178729437), ('max_depth', 6), ('min_child_weight', 80.0), ('min_split_gain', 0.001), ('n_estimators', 1400), ('num_leaves', 15), ('reg_alpha', 0.6), ('reg_lambda', 0.6), ('subsample', 1.0)])\n",
      "\n"
     ]
    },
    {
     "name": "stdout",
     "output_type": "stream",
     "text": [
      "Model #80\n",
      "Best Acc: 0.5592\n",
      "Best params: OrderedDict([('colsample_bytree', 0.5), ('learning_rate', 0.04044720178729437), ('max_depth', 6), ('min_child_weight', 80.0), ('min_split_gain', 0.001), ('n_estimators', 1400), ('num_leaves', 15), ('reg_alpha', 0.6), ('reg_lambda', 0.6), ('subsample', 1.0)])\n",
      "\n",
      "Model #81\n",
      "Best Acc: 0.5592\n",
      "Best params: OrderedDict([('colsample_bytree', 0.5), ('learning_rate', 0.04044720178729437), ('max_depth', 6), ('min_child_weight', 80.0), ('min_split_gain', 0.001), ('n_estimators', 1400), ('num_leaves', 15), ('reg_alpha', 0.6), ('reg_lambda', 0.6), ('subsample', 1.0)])\n",
      "\n",
      "Model #82\n",
      "Best Acc: 0.5592\n",
      "Best params: OrderedDict([('colsample_bytree', 0.5), ('learning_rate', 0.04044720178729437), ('max_depth', 6), ('min_child_weight', 80.0), ('min_split_gain', 0.001), ('n_estimators', 1400), ('num_leaves', 15), ('reg_alpha', 0.6), ('reg_lambda', 0.6), ('subsample', 1.0)])\n",
      "\n",
      "Model #83\n",
      "Best Acc: 0.5592\n",
      "Best params: OrderedDict([('colsample_bytree', 0.5), ('learning_rate', 0.04044720178729437), ('max_depth', 6), ('min_child_weight', 80.0), ('min_split_gain', 0.001), ('n_estimators', 1400), ('num_leaves', 15), ('reg_alpha', 0.6), ('reg_lambda', 0.6), ('subsample', 1.0)])\n",
      "\n",
      "Model #84\n",
      "Best Acc: 0.5592\n",
      "Best params: OrderedDict([('colsample_bytree', 0.5), ('learning_rate', 0.04044720178729437), ('max_depth', 6), ('min_child_weight', 80.0), ('min_split_gain', 0.001), ('n_estimators', 1400), ('num_leaves', 15), ('reg_alpha', 0.6), ('reg_lambda', 0.6), ('subsample', 1.0)])\n",
      "\n",
      "Model #85\n",
      "Best Acc: 0.5592\n",
      "Best params: OrderedDict([('colsample_bytree', 0.5), ('learning_rate', 0.04044720178729437), ('max_depth', 6), ('min_child_weight', 80.0), ('min_split_gain', 0.001), ('n_estimators', 1400), ('num_leaves', 15), ('reg_alpha', 0.6), ('reg_lambda', 0.6), ('subsample', 1.0)])\n",
      "\n",
      "Model #86\n",
      "Best Acc: 0.5592\n",
      "Best params: OrderedDict([('colsample_bytree', 0.5), ('learning_rate', 0.04044720178729437), ('max_depth', 6), ('min_child_weight', 80.0), ('min_split_gain', 0.001), ('n_estimators', 1400), ('num_leaves', 15), ('reg_alpha', 0.6), ('reg_lambda', 0.6), ('subsample', 1.0)])\n",
      "\n",
      "Model #87\n",
      "Best Acc: 0.5592\n",
      "Best params: OrderedDict([('colsample_bytree', 0.5), ('learning_rate', 0.04044720178729437), ('max_depth', 6), ('min_child_weight', 80.0), ('min_split_gain', 0.001), ('n_estimators', 1400), ('num_leaves', 15), ('reg_alpha', 0.6), ('reg_lambda', 0.6), ('subsample', 1.0)])\n",
      "\n",
      "Model #88\n",
      "Best Acc: 0.5592\n",
      "Best params: OrderedDict([('colsample_bytree', 0.5), ('learning_rate', 0.04044720178729437), ('max_depth', 6), ('min_child_weight', 80.0), ('min_split_gain', 0.001), ('n_estimators', 1400), ('num_leaves', 15), ('reg_alpha', 0.6), ('reg_lambda', 0.6), ('subsample', 1.0)])\n",
      "\n",
      "Model #89\n",
      "Best Acc: 0.5592\n",
      "Best params: OrderedDict([('colsample_bytree', 0.5), ('learning_rate', 0.04044720178729437), ('max_depth', 6), ('min_child_weight', 80.0), ('min_split_gain', 0.001), ('n_estimators', 1400), ('num_leaves', 15), ('reg_alpha', 0.6), ('reg_lambda', 0.6), ('subsample', 1.0)])\n",
      "\n",
      "Model #90\n",
      "Best Acc: 0.5592\n",
      "Best params: OrderedDict([('colsample_bytree', 0.5), ('learning_rate', 0.04044720178729437), ('max_depth', 6), ('min_child_weight', 80.0), ('min_split_gain', 0.001), ('n_estimators', 1400), ('num_leaves', 15), ('reg_alpha', 0.6), ('reg_lambda', 0.6), ('subsample', 1.0)])\n",
      "\n",
      "Model #91\n",
      "Best Acc: 0.5593\n",
      "Best params: OrderedDict([('colsample_bytree', 0.5), ('learning_rate', 0.036144638140076825), ('max_depth', 6), ('min_child_weight', 80.0), ('min_split_gain', 0.006803253001226026), ('n_estimators', 1400), ('num_leaves', 15), ('reg_alpha', 0.6), ('reg_lambda', 0.5848942128519419), ('subsample', 1.0)])\n",
      "\n",
      "Model #92\n",
      "Best Acc: 0.5593\n",
      "Best params: OrderedDict([('colsample_bytree', 0.5), ('learning_rate', 0.036144638140076825), ('max_depth', 6), ('min_child_weight', 80.0), ('min_split_gain', 0.006803253001226026), ('n_estimators', 1400), ('num_leaves', 15), ('reg_alpha', 0.6), ('reg_lambda', 0.5848942128519419), ('subsample', 1.0)])\n",
      "\n",
      "Model #93\n",
      "Best Acc: 0.5593\n",
      "Best params: OrderedDict([('colsample_bytree', 0.5), ('learning_rate', 0.036144638140076825), ('max_depth', 6), ('min_child_weight', 80.0), ('min_split_gain', 0.006803253001226026), ('n_estimators', 1400), ('num_leaves', 15), ('reg_alpha', 0.6), ('reg_lambda', 0.5848942128519419), ('subsample', 1.0)])\n",
      "\n",
      "Model #94\n",
      "Best Acc: 0.5593\n",
      "Best params: OrderedDict([('colsample_bytree', 0.5), ('learning_rate', 0.036144638140076825), ('max_depth', 6), ('min_child_weight', 80.0), ('min_split_gain', 0.006803253001226026), ('n_estimators', 1400), ('num_leaves', 15), ('reg_alpha', 0.6), ('reg_lambda', 0.5848942128519419), ('subsample', 1.0)])\n",
      "\n",
      "Model #95\n",
      "Best Acc: 0.5593\n",
      "Best params: OrderedDict([('colsample_bytree', 0.5), ('learning_rate', 0.036144638140076825), ('max_depth', 6), ('min_child_weight', 80.0), ('min_split_gain', 0.006803253001226026), ('n_estimators', 1400), ('num_leaves', 15), ('reg_alpha', 0.6), ('reg_lambda', 0.5848942128519419), ('subsample', 1.0)])\n",
      "\n",
      "Model #96\n",
      "Best Acc: 0.5593\n",
      "Best params: OrderedDict([('colsample_bytree', 0.5), ('learning_rate', 0.036144638140076825), ('max_depth', 6), ('min_child_weight', 80.0), ('min_split_gain', 0.006803253001226026), ('n_estimators', 1400), ('num_leaves', 15), ('reg_alpha', 0.6), ('reg_lambda', 0.5848942128519419), ('subsample', 1.0)])\n",
      "\n",
      "Model #97\n",
      "Best Acc: 0.5593\n",
      "Best params: OrderedDict([('colsample_bytree', 0.5), ('learning_rate', 0.036144638140076825), ('max_depth', 6), ('min_child_weight', 80.0), ('min_split_gain', 0.006803253001226026), ('n_estimators', 1400), ('num_leaves', 15), ('reg_alpha', 0.6), ('reg_lambda', 0.5848942128519419), ('subsample', 1.0)])\n",
      "\n",
      "Model #98\n",
      "Best Acc: 0.5593\n",
      "Best params: OrderedDict([('colsample_bytree', 0.5), ('learning_rate', 0.036144638140076825), ('max_depth', 6), ('min_child_weight', 80.0), ('min_split_gain', 0.006803253001226026), ('n_estimators', 1400), ('num_leaves', 15), ('reg_alpha', 0.6), ('reg_lambda', 0.5848942128519419), ('subsample', 1.0)])\n",
      "\n",
      "Model #99\n",
      "Best Acc: 0.5593\n",
      "Best params: OrderedDict([('colsample_bytree', 0.5), ('learning_rate', 0.036144638140076825), ('max_depth', 6), ('min_child_weight', 80.0), ('min_split_gain', 0.006803253001226026), ('n_estimators', 1400), ('num_leaves', 15), ('reg_alpha', 0.6), ('reg_lambda', 0.5848942128519419), ('subsample', 1.0)])\n",
      "\n",
      "Model #100\n",
      "Best Acc: 0.5593\n",
      "Best params: OrderedDict([('colsample_bytree', 0.5), ('learning_rate', 0.036144638140076825), ('max_depth', 6), ('min_child_weight', 80.0), ('min_split_gain', 0.006803253001226026), ('n_estimators', 1400), ('num_leaves', 15), ('reg_alpha', 0.6), ('reg_lambda', 0.5848942128519419), ('subsample', 1.0)])\n",
      "\n"
     ]
    }
   ],
   "source": [
    "# resultados\n",
    "result = bayes_cv_tuner.fit(X, Y, callback=status_print)"
   ]
  },
  {
   "cell_type": "code",
   "execution_count": 123,
   "metadata": {},
   "outputs": [],
   "source": [
    "parameters = dict([('colsample_bytree', 0.5), ('learning_rate', 0.036144638140076825), ('max_depth', 6),\n",
    "                   ('min_child_weight', 80.0), ('min_split_gain', 0.006803253001226026), ('n_estimators', 1400),\n",
    "                   ('num_leaves', 15), ('reg_alpha', 0.6), ('reg_lambda', 0.5848942128519419), ('subsample', 1.0)])"
   ]
  },
  {
   "cell_type": "markdown",
   "metadata": {},
   "source": [
    "Podemos ver como el modelo optimizado obtiene una mejora de 0.5 puntos sobre la F1_geom"
   ]
  },
  {
   "cell_type": "code",
   "execution_count": 99,
   "metadata": {},
   "outputs": [
    {
     "name": "stdout",
     "output_type": "stream",
     "text": [
      "F1_geom Score: 0.5550\n"
     ]
    }
   ],
   "source": [
    "scores = cross_val_score(LGBMClassifier(**parameters,class_weight={0: 1, 1: 4.7}),\n",
    "                         X, Y, scoring=geom_f1_score, cv=3, n_jobs=-1)\n",
    "score = mean(scores)\n",
    "print('F1_geom Score: %.4f' % score)"
   ]
  },
  {
   "cell_type": "markdown",
   "metadata": {},
   "source": [
    "## Métricas modelo optimizado"
   ]
  },
  {
   "cell_type": "code",
   "execution_count": 102,
   "metadata": {},
   "outputs": [],
   "source": [
    "clf_optimize = LGBMClassifier(**parameters, class_weight={0: 1, 1: 4.7})"
   ]
  },
  {
   "cell_type": "code",
   "execution_count": 103,
   "metadata": {},
   "outputs": [
    {
     "name": "stdout",
     "output_type": "stream",
     "text": [
      "XGBoost score train:  0.894157879737817\n",
      "XGBoost score test:  0.8763027618551329\n",
      "XGBoost score test F1:  0.32563920454545453\n",
      "XGBoost score test F1_geom:  0.5508767488703077\n"
     ]
    }
   ],
   "source": [
    "clf_optimize.fit(X_train, y_train)\n",
    "\n",
    "y_pred_optimize = clf_optimize.predict(X_test)\n",
    "\n",
    "print(\"XGBoost score train: \", accuracy_score(y_train, clf_optimize.predict(X_train)))\n",
    "print(\"XGBoost score test: \", accuracy_score(y_test, y_pred_optimize))\n",
    "print(\"XGBoost score test F1: \", f1_score(y_test, y_pred_optimize))\n",
    "print(\"XGBoost score test F1_geom: \", f1_geom(y_test, y_pred_optimize))"
   ]
  },
  {
   "cell_type": "code",
   "execution_count": 108,
   "metadata": {},
   "outputs": [
    {
     "name": "stdout",
     "output_type": "stream",
     "text": [
      "              precision    recall  f1-score   support\n",
      "\n",
      "           0       0.94      0.92      0.93     56391\n",
      "           1       0.29      0.37      0.33      5017\n",
      "\n",
      "    accuracy                           0.88     61408\n",
      "   macro avg       0.62      0.64      0.63     61408\n",
      "weighted avg       0.89      0.88      0.88     61408\n",
      "\n"
     ]
    }
   ],
   "source": [
    "print(classification_report(y_test, y_pred_optimize))"
   ]
  },
  {
   "cell_type": "code",
   "execution_count": 107,
   "metadata": {},
   "outputs": [
    {
     "data": {
      "image/png": "[encoded data removed]",
      "text/plain": [
       "<Figure size 432x288 with 2 Axes>"
      ]
     },
     "metadata": {
      "needs_background": "light"
     },
     "output_type": "display_data"
    }
   ],
   "source": [
    "conf_matrix(y_test, y_pred_optimize)"
   ]
  },
  {
   "cell_type": "code",
   "execution_count": 110,
   "metadata": {},
   "outputs": [],
   "source": [
    "features = pd.DataFrame({'Features':X_train.columns, 'Coeficients':abs(clf.feature_importances_)}).sort_values(by=['Coeficients'], ascending=False)"
   ]
  },
  {
   "cell_type": "code",
   "execution_count": 133,
   "metadata": {},
   "outputs": [],
   "source": [
    "best_features = features.head(40)"
   ]
  },
  {
   "cell_type": "code",
   "execution_count": 135,
   "metadata": {},
   "outputs": [
    {
     "data": {
      "image/png": "[encoded data removed]",
      "text/plain": [
       "<Figure size 1008x864 with 1 Axes>"
      ]
     },
     "metadata": {
      "needs_background": "light"
     },
     "output_type": "display_data"
    }
   ],
   "source": [
    "fig, ax = plt.subplots(figsize=(14,12))\n",
    "coef_plot = sns.barplot(best_features['Features'],best_features['Coeficients'])\n",
    "coef_plot.set_xticklabels(coef_plot.get_xticklabels(), rotation=40, ha=\"right\");"
   ]
  },
  {
   "cell_type": "markdown",
   "metadata": {},
   "source": [
    "Para obtener el beneficio del modelo final vamos a realizar una optimización del cut-off en funcion de la matriz de costes que hemos supuesto."
   ]
  },
  {
   "cell_type": "code",
   "execution_count": 163,
   "metadata": {},
   "outputs": [],
   "source": [
    "pkl_filename = \"../models/final_model.pkl\"\n",
    "with open(pkl_filename, 'wb') as file:\n",
    "    pickle.dump(clf_optimize, file)\n",
    "\n",
    "# with open(pkl_filename, 'rb') as file:\n",
    "#     pickle_model = pickle.load(file)"
   ]
  },
  {
   "cell_type": "code",
   "execution_count": 28,
   "metadata": {},
   "outputs": [],
   "source": [
    "pkl_filename = \"../models/final_model.pkl\""
   ]
  },
  {
   "cell_type": "code",
   "execution_count": 29,
   "metadata": {},
   "outputs": [
    {
     "name": "stderr",
     "output_type": "stream",
     "text": [
      "C:\\Users\\migue\\Anaconda3\\lib\\site-packages\\sklearn\\base.py:318: UserWarning: Trying to unpickle estimator LabelEncoder from version 0.23.0 when using version 0.22.1. This might lead to breaking code or invalid results. Use at your own risk.\n",
      "  UserWarning)\n"
     ]
    }
   ],
   "source": [
    "with open(pkl_filename, 'rb') as file:\n",
    "    pickle_model = pickle.load(file)"
   ]
  },
  {
   "cell_type": "markdown",
   "metadata": {},
   "source": [
    "Predicción con el modelo LightGBM entrenado."
   ]
  },
  {
   "cell_type": "code",
   "execution_count": 30,
   "metadata": {},
   "outputs": [],
   "source": [
    "prueba_prediccion = pickle_model.predict_proba(X_test)[:,1]"
   ]
  },
  {
   "cell_type": "markdown",
   "metadata": {},
   "source": [
    "### Métrica de negocio para aplicar costes y beneficios sobre la matriz de confusión"
   ]
  },
  {
   "cell_type": "code",
   "execution_count": 37,
   "metadata": {},
   "outputs": [],
   "source": [
    "def optimizacion_continua(y_pred):\n",
    "    \n",
    "    def interes(cantidad):\n",
    "\n",
    "        if((cantidad <= 80000)):\n",
    "            return 0.06\n",
    "\n",
    "        elif((cantidad > 80000) & (cantidad <= 150000)):\n",
    "            return 0.04\n",
    "\n",
    "        elif((cantidad > 150000) & (cantidad <= 650000)):\n",
    "            return 0.025\n",
    "\n",
    "        else:\n",
    "            return 0.0175\n",
    "        \n",
    "    def objective(corte):\n",
    "        cost = 0\n",
    "        for idx, probs in enumerate(y_pred):\n",
    "            amount = X_test.iloc[idx, X_test.columns.get_loc('AMT_CREDIT')]\n",
    "            annuity = X_test.iloc[idx, X_test.columns.get_loc('AMT_ANNUITY')]\n",
    "            years = -np.log(-amount*interes(amount)/annuity + 1) / np.log(1 + interes(amount))\n",
    "            total_interest = years*annuity - amount\n",
    "\n",
    "            if probs <= corte:\n",
    "                pred=0\n",
    "\n",
    "                if y_test.iloc[idx]==1:\n",
    "                    cost += 0.7 * amount + 0.6 * total_interest\n",
    "\n",
    "                else:\n",
    "                    cost -= total_interest\n",
    "\n",
    "            if probs > corte:\n",
    "                pred=1\n",
    "\n",
    "                if y_test.iloc[idx]==0:\n",
    "                    cost += total_interest\n",
    "\n",
    "                else:\n",
    "                    cost -= 0.7 * amount + 0.6 * total_interest\n",
    "\n",
    "\n",
    "        return {'loss': cost, 'params': corte, 'status': STATUS_OK}\n",
    "    \n",
    "    # optimization algorithm\n",
    "    tpe_algorithm = tpe.suggest\n",
    "    \n",
    "    # Keep track of results\n",
    "    bayes_trials = Trials()\n",
    "    \n",
    "    # optimization \n",
    "    best = fmin(fn = objective, space = space, algo = tpe.suggest, \n",
    "            max_evals = 50, trials = bayes_trials, rstate = np.random.RandomState(50))\n",
    "    \n",
    "    #results\n",
    "    return bayes_trials.best_trial['result']['params']\n"
   ]
  },
  {
   "cell_type": "markdown",
   "metadata": {},
   "source": [
    "Métrica de negocio para comprobar sobre los casos reales de pago e impago, para ver si el modelo generado con la métrica de negocio mejora al modelo ya existente del banco."
   ]
  },
  {
   "cell_type": "code",
   "execution_count": 38,
   "metadata": {},
   "outputs": [],
   "source": [
    "def metrica_sin_modelo(y_test):\n",
    "    cost=0\n",
    "    \n",
    "    def interes(cantidad):\n",
    "        if((cantidad <= 80000)):\n",
    "            return 0.06\n",
    "\n",
    "        elif((cantidad > 80000) & (cantidad <= 150000)):\n",
    "            return 0.04\n",
    "\n",
    "        elif((cantidad > 150000) & (cantidad <= 650000)):\n",
    "            return 0.025\n",
    "\n",
    "        else:\n",
    "            return 0.0175\n",
    "    \n",
    "    for idx, pred in enumerate(y_test):\n",
    "        \n",
    "        amount = X_test.iloc[idx, X_test.columns.get_loc('AMT_CREDIT')]\n",
    "        annuity = X_test.iloc[idx, X_test.columns.get_loc('AMT_ANNUITY')]\n",
    "\n",
    "        years = -np.log(-amount*interes(amount)/annuity + 1) / np.log(1 + interes(amount))\n",
    "        \n",
    "        total_interest = years*annuity - amount\n",
    "        \n",
    "        if pred==0:\n",
    "            \n",
    "            cost -= total_interest\n",
    "            \n",
    "        else:\n",
    "            cost += 0.7 * amount + 0.6 * total_interest\n",
    "    \n",
    "    return cost"
   ]
  },
  {
   "cell_type": "code",
   "execution_count": 39,
   "metadata": {},
   "outputs": [],
   "source": [
    "space = hp.lognormal('corte', 0, 1)"
   ]
  },
  {
   "cell_type": "code",
   "execution_count": 40,
   "metadata": {},
   "outputs": [
    {
     "name": "stdout",
     "output_type": "stream",
     "text": [
      "100%|███████████████████████████████████████████████| 50/50 [01:34<00:00,  1.90s/trial, best loss: -12502273592.723858]\n",
      "Wall time: 1min 34s\n"
     ]
    },
    {
     "data": {
      "text/plain": [
       "0.5773235688911703"
      ]
     },
     "execution_count": 40,
     "metadata": {},
     "output_type": "execute_result"
    }
   ],
   "source": [
    "%%time\n",
    "optimizacion_continua(prueba_prediccion)"
   ]
  },
  {
   "cell_type": "code",
   "execution_count": 44,
   "metadata": {},
   "outputs": [
    {
     "data": {
      "image/png": "[encoded data removed]",
      "text/plain": [
       "<Figure size 432x288 with 2 Axes>"
      ]
     },
     "metadata": {
      "needs_background": "light"
     },
     "output_type": "display_data"
    }
   ],
   "source": [
    "conf_matrix(y_test, np.where(prueba_prediccion >= 0.5773235688911703, 1, 0))"
   ]
  },
  {
   "cell_type": "code",
   "execution_count": 94,
   "metadata": {},
   "outputs": [
    {
     "name": "stdout",
     "output_type": "stream",
     "text": [
      "              precision    recall  f1-score   support\n",
      "\n",
      "           0       0.94      0.96      0.95     56354\n",
      "           1       0.40      0.33      0.36      5053\n",
      "\n",
      "    accuracy                           0.90     61407\n",
      "   macro avg       0.67      0.64      0.65     61407\n",
      "weighted avg       0.90      0.90      0.90     61407\n",
      "\n"
     ]
    }
   ],
   "source": [
    "print(classification_report(y_test, prueba_prediccion >= 0.5773235688911703))"
   ]
  },
  {
   "cell_type": "code",
   "execution_count": 43,
   "metadata": {},
   "outputs": [
    {
     "data": {
      "text/plain": [
       "-11883597243.653883"
      ]
     },
     "execution_count": 43,
     "metadata": {},
     "output_type": "execute_result"
    }
   ],
   "source": [
    "metrica_sin_modelo(y_test)"
   ]
  },
  {
   "cell_type": "markdown",
   "metadata": {},
   "source": [
    "Como se puede observar, el beneficio con modelo y métrica de negocio es mayor que en el caso del modelo existente del banco. Los valores están en negativo ya que en la métrica de negocio la penalización, es decir los costes, eran positivos, por tanto los beneficios negativos."
   ]
  },
  {
   "cell_type": "markdown",
   "metadata": {},
   "source": [
    "## Estrategia de Pricing"
   ]
  },
  {
   "cell_type": "markdown",
   "metadata": {},
   "source": [
    "Se realiza una copia del DataFrame X_test."
   ]
  },
  {
   "cell_type": "code",
   "execution_count": 108,
   "metadata": {},
   "outputs": [],
   "source": [
    "X_test_p = X_test.copy()"
   ]
  },
  {
   "cell_type": "markdown",
   "metadata": {},
   "source": [
    "A continuación se crea la variable de la predicción de impago y la variable del interés de cada registro."
   ]
  },
  {
   "cell_type": "code",
   "execution_count": 109,
   "metadata": {},
   "outputs": [],
   "source": [
    "X_test_p['SCORE'] = prueba_prediccion"
   ]
  },
  {
   "cell_type": "code",
   "execution_count": 110,
   "metadata": {},
   "outputs": [],
   "source": [
    "X_test_p['INTERES'] = X_test_p['AMT_CREDIT'].map(lambda x: interes(x))"
   ]
  },
  {
   "cell_type": "markdown",
   "metadata": {},
   "source": [
    "Se establece un riesgo máximo, es el valor más alto para los casos que se consideraran de riesog, a los que se les reduce el tipo de interés. Son valores que se encuentran por encima del *cut off* pero por debajo de 0.65."
   ]
  },
  {
   "cell_type": "code",
   "execution_count": 111,
   "metadata": {},
   "outputs": [],
   "source": [
    "max_risk = 0.65"
   ]
  },
  {
   "cell_type": "markdown",
   "metadata": {},
   "source": [
    "Se crea el filtro para identificar los casos de riesgo."
   ]
  },
  {
   "cell_type": "code",
   "execution_count": 112,
   "metadata": {},
   "outputs": [],
   "source": [
    "filter_risky = (X_test_p['SCORE'] > 0.5773235688911703) & (X_test_p['SCORE'] < max_risk)"
   ]
  },
  {
   "cell_type": "code",
   "execution_count": 113,
   "metadata": {},
   "outputs": [
    {
     "data": {
      "text/plain": [
       "<matplotlib.axes._subplots.AxesSubplot at 0x143dc576f08>"
      ]
     },
     "execution_count": 113,
     "metadata": {},
     "output_type": "execute_result"
    },
    {
     "data": {
      "image/png": "[encoded data removed]",
      "text/plain": [
       "<Figure size 432x288 with 1 Axes>"
      ]
     },
     "metadata": {
      "needs_background": "light"
     },
     "output_type": "display_data"
    }
   ],
   "source": [
    "sns.distplot(X_test_p[filter_risky]['SCORE'], hist=True, kde=True, \n",
    "             bins=int(10), color = 'darkblue', \n",
    "             hist_kws={'edgecolor':'black'},\n",
    "             kde_kws={'linewidth': 4})"
   ]
  },
  {
   "cell_type": "code",
   "execution_count": 114,
   "metadata": {},
   "outputs": [
    {
     "data": {
      "text/plain": [
       "<matplotlib.axes._subplots.AxesSubplot at 0x143dc57ed48>"
      ]
     },
     "execution_count": 114,
     "metadata": {},
     "output_type": "execute_result"
    },
    {
     "data": {
      "image/png": "[encoded data removed]",
      "text/plain": [
       "<Figure size 432x288 with 1 Axes>"
      ]
     },
     "metadata": {
      "needs_background": "light"
     },
     "output_type": "display_data"
    }
   ],
   "source": [
    "X_test_p[filter_risky]['SCORE'].hist()"
   ]
  },
  {
   "cell_type": "markdown",
   "metadata": {},
   "source": [
    "Creación de la variable que reflejará la bajada de interés. Se aplica un factor de corrección sobre el interés de 0.9."
   ]
  },
  {
   "cell_type": "code",
   "execution_count": 115,
   "metadata": {},
   "outputs": [],
   "source": [
    "X_test_p['INTERES_MOD_down'] = X_test_p['INTERES']"
   ]
  },
  {
   "cell_type": "code",
   "execution_count": 116,
   "metadata": {},
   "outputs": [],
   "source": [
    "per_down = 0.9"
   ]
  },
  {
   "cell_type": "code",
   "execution_count": 117,
   "metadata": {},
   "outputs": [],
   "source": [
    "X_test_p.loc[filter_risky,'INTERES_MOD_down']= X_test_p.loc[filter_risky,'INTERES_MOD_down'] * per_down"
   ]
  },
  {
   "cell_type": "markdown",
   "metadata": {},
   "source": [
    "Creación de nueva variable que reflejará la bajada de 3 puntos sobre el riesgo en los casos en los que corresponda."
   ]
  },
  {
   "cell_type": "code",
   "execution_count": 118,
   "metadata": {},
   "outputs": [],
   "source": [
    "X_test_p['default_fix'] = 0"
   ]
  },
  {
   "cell_type": "code",
   "execution_count": 119,
   "metadata": {},
   "outputs": [],
   "source": [
    "per_default = 0.03"
   ]
  },
  {
   "cell_type": "markdown",
   "metadata": {},
   "source": [
    "Cerca de un 30 % de los casos de riesgo verán rebajado su score de probabilidad de impago."
   ]
  },
  {
   "cell_type": "code",
   "execution_count": 120,
   "metadata": {},
   "outputs": [],
   "source": [
    "len_risky= len(X_test_p.loc[filter_risky])"
   ]
  },
  {
   "cell_type": "code",
   "execution_count": 121,
   "metadata": {},
   "outputs": [],
   "source": [
    "vector = np.random.rand(len_risky)"
   ]
  },
  {
   "cell_type": "code",
   "execution_count": 122,
   "metadata": {},
   "outputs": [],
   "source": [
    "tasa_cambio = 0.3"
   ]
  },
  {
   "cell_type": "code",
   "execution_count": 123,
   "metadata": {},
   "outputs": [],
   "source": [
    "var_score = (vector<tasa_cambio).astype(int) * per_default"
   ]
  },
  {
   "cell_type": "code",
   "execution_count": 124,
   "metadata": {},
   "outputs": [
    {
     "data": {
      "text/plain": [
       "1618"
      ]
     },
     "execution_count": 124,
     "metadata": {},
     "output_type": "execute_result"
    }
   ],
   "source": [
    "len(var_score)"
   ]
  },
  {
   "cell_type": "code",
   "execution_count": 125,
   "metadata": {},
   "outputs": [
    {
     "data": {
      "text/plain": [
       "0.2892459826946848"
      ]
     },
     "execution_count": 125,
     "metadata": {},
     "output_type": "execute_result"
    }
   ],
   "source": [
    "len(var_score[var_score == 0.03])/len(var_score)"
   ]
  },
  {
   "cell_type": "code",
   "execution_count": 126,
   "metadata": {},
   "outputs": [],
   "source": [
    "X_test_p.loc[filter_risky,'default_fix'] = X_test_p.loc[filter_risky,'default_fix'] + var_score * per_default"
   ]
  },
  {
   "cell_type": "code",
   "execution_count": 127,
   "metadata": {},
   "outputs": [
    {
     "data": {
      "text/plain": [
       "<matplotlib.axes._subplots.AxesSubplot at 0x143dc69a488>"
      ]
     },
     "execution_count": 127,
     "metadata": {},
     "output_type": "execute_result"
    },
    {
     "data": {
      "image/png": "[encoded data removed]",
      "text/plain": [
       "<Figure size 432x288 with 1 Axes>"
      ]
     },
     "metadata": {
      "needs_background": "light"
     },
     "output_type": "display_data"
    }
   ],
   "source": [
    "X_test_p.loc[filter_risky,'default_fix'].hist()"
   ]
  },
  {
   "cell_type": "code",
   "execution_count": 128,
   "metadata": {},
   "outputs": [
    {
     "data": {
      "text/html": [
       "<div>\n",
       "<style scoped>\n",
       "    .dataframe tbody tr th:only-of-type {\n",
       "        vertical-align: middle;\n",
       "    }\n",
       "\n",
       "    .dataframe tbody tr th {\n",
       "        vertical-align: top;\n",
       "    }\n",
       "\n",
       "    .dataframe thead th {\n",
       "        text-align: right;\n",
       "    }\n",
       "</style>\n",
       "<table border=\"1\" class=\"dataframe\">\n",
       "  <thead>\n",
       "    <tr style=\"text-align: right;\">\n",
       "      <th></th>\n",
       "      <th>AMT_INCOME_TOTAL</th>\n",
       "      <th>AMT_ANNUITY</th>\n",
       "      <th>AMT_GOODS_PRICE</th>\n",
       "      <th>DAYS_BIRTH</th>\n",
       "      <th>DAYS_ID_PUBLISH</th>\n",
       "      <th>FLAG_WORK_PHONE</th>\n",
       "      <th>FLAG_CONT_MOBILE</th>\n",
       "      <th>FLAG_EMAIL</th>\n",
       "      <th>REGION_RATING_CLIENT</th>\n",
       "      <th>REG_REGION_NOT_LIVE_REGION</th>\n",
       "      <th>...</th>\n",
       "      <th>CC_NAME_CONTRACT_STATUS_Sent_proposal_MEAN</th>\n",
       "      <th>CC_NAME_CONTRACT_STATUS_Sent_proposal_VAR</th>\n",
       "      <th>CC_NAME_CONTRACT_STATUS_Signed_MIN</th>\n",
       "      <th>CC_NAME_CONTRACT_STATUS_Signed_MAX</th>\n",
       "      <th>CC_NAME_CONTRACT_STATUS_Signed_SUM</th>\n",
       "      <th>AMT_CREDIT</th>\n",
       "      <th>SCORE</th>\n",
       "      <th>INTERES</th>\n",
       "      <th>INTERES_MOD_down</th>\n",
       "      <th>default_fix</th>\n",
       "    </tr>\n",
       "  </thead>\n",
       "  <tbody>\n",
       "    <tr>\n",
       "      <th>239412</th>\n",
       "      <td>202500.0</td>\n",
       "      <td>45400.5</td>\n",
       "      <td>733500.0</td>\n",
       "      <td>-15691</td>\n",
       "      <td>-4596</td>\n",
       "      <td>0</td>\n",
       "      <td>1</td>\n",
       "      <td>0</td>\n",
       "      <td>2</td>\n",
       "      <td>0</td>\n",
       "      <td>...</td>\n",
       "      <td>0.0</td>\n",
       "      <td>0.0</td>\n",
       "      <td>0.0</td>\n",
       "      <td>0.0</td>\n",
       "      <td>0.0</td>\n",
       "      <td>849685.5</td>\n",
       "      <td>0.087264</td>\n",
       "      <td>0.0175</td>\n",
       "      <td>0.0175</td>\n",
       "      <td>0.0</td>\n",
       "    </tr>\n",
       "    <tr>\n",
       "      <th>126640</th>\n",
       "      <td>135000.0</td>\n",
       "      <td>9000.0</td>\n",
       "      <td>180000.0</td>\n",
       "      <td>-15585</td>\n",
       "      <td>-4351</td>\n",
       "      <td>0</td>\n",
       "      <td>1</td>\n",
       "      <td>0</td>\n",
       "      <td>2</td>\n",
       "      <td>0</td>\n",
       "      <td>...</td>\n",
       "      <td>NaN</td>\n",
       "      <td>NaN</td>\n",
       "      <td>NaN</td>\n",
       "      <td>NaN</td>\n",
       "      <td>NaN</td>\n",
       "      <td>180000.0</td>\n",
       "      <td>0.086862</td>\n",
       "      <td>0.0250</td>\n",
       "      <td>0.0250</td>\n",
       "      <td>0.0</td>\n",
       "    </tr>\n",
       "    <tr>\n",
       "      <th>152516</th>\n",
       "      <td>166500.0</td>\n",
       "      <td>19417.5</td>\n",
       "      <td>270000.0</td>\n",
       "      <td>-10432</td>\n",
       "      <td>-2665</td>\n",
       "      <td>0</td>\n",
       "      <td>1</td>\n",
       "      <td>0</td>\n",
       "      <td>2</td>\n",
       "      <td>0</td>\n",
       "      <td>...</td>\n",
       "      <td>NaN</td>\n",
       "      <td>NaN</td>\n",
       "      <td>NaN</td>\n",
       "      <td>NaN</td>\n",
       "      <td>NaN</td>\n",
       "      <td>355536.0</td>\n",
       "      <td>0.770657</td>\n",
       "      <td>0.0250</td>\n",
       "      <td>0.0250</td>\n",
       "      <td>0.0</td>\n",
       "    </tr>\n",
       "    <tr>\n",
       "      <th>228986</th>\n",
       "      <td>157500.0</td>\n",
       "      <td>35806.5</td>\n",
       "      <td>450000.0</td>\n",
       "      <td>-9961</td>\n",
       "      <td>-2365</td>\n",
       "      <td>0</td>\n",
       "      <td>1</td>\n",
       "      <td>0</td>\n",
       "      <td>2</td>\n",
       "      <td>0</td>\n",
       "      <td>...</td>\n",
       "      <td>NaN</td>\n",
       "      <td>NaN</td>\n",
       "      <td>NaN</td>\n",
       "      <td>NaN</td>\n",
       "      <td>NaN</td>\n",
       "      <td>592560.0</td>\n",
       "      <td>0.370534</td>\n",
       "      <td>0.0250</td>\n",
       "      <td>0.0250</td>\n",
       "      <td>0.0</td>\n",
       "    </tr>\n",
       "    <tr>\n",
       "      <th>184378</th>\n",
       "      <td>54000.0</td>\n",
       "      <td>10849.5</td>\n",
       "      <td>225000.0</td>\n",
       "      <td>-20707</td>\n",
       "      <td>-2891</td>\n",
       "      <td>0</td>\n",
       "      <td>1</td>\n",
       "      <td>0</td>\n",
       "      <td>2</td>\n",
       "      <td>0</td>\n",
       "      <td>...</td>\n",
       "      <td>NaN</td>\n",
       "      <td>NaN</td>\n",
       "      <td>NaN</td>\n",
       "      <td>NaN</td>\n",
       "      <td>NaN</td>\n",
       "      <td>284400.0</td>\n",
       "      <td>0.252475</td>\n",
       "      <td>0.0250</td>\n",
       "      <td>0.0250</td>\n",
       "      <td>0.0</td>\n",
       "    </tr>\n",
       "    <tr>\n",
       "      <th>...</th>\n",
       "      <td>...</td>\n",
       "      <td>...</td>\n",
       "      <td>...</td>\n",
       "      <td>...</td>\n",
       "      <td>...</td>\n",
       "      <td>...</td>\n",
       "      <td>...</td>\n",
       "      <td>...</td>\n",
       "      <td>...</td>\n",
       "      <td>...</td>\n",
       "      <td>...</td>\n",
       "      <td>...</td>\n",
       "      <td>...</td>\n",
       "      <td>...</td>\n",
       "      <td>...</td>\n",
       "      <td>...</td>\n",
       "      <td>...</td>\n",
       "      <td>...</td>\n",
       "      <td>...</td>\n",
       "      <td>...</td>\n",
       "      <td>...</td>\n",
       "    </tr>\n",
       "    <tr>\n",
       "      <th>128930</th>\n",
       "      <td>292500.0</td>\n",
       "      <td>42561.0</td>\n",
       "      <td>396000.0</td>\n",
       "      <td>-11442</td>\n",
       "      <td>-3426</td>\n",
       "      <td>0</td>\n",
       "      <td>1</td>\n",
       "      <td>0</td>\n",
       "      <td>2</td>\n",
       "      <td>0</td>\n",
       "      <td>...</td>\n",
       "      <td>NaN</td>\n",
       "      <td>NaN</td>\n",
       "      <td>NaN</td>\n",
       "      <td>NaN</td>\n",
       "      <td>NaN</td>\n",
       "      <td>462645.0</td>\n",
       "      <td>0.581286</td>\n",
       "      <td>0.0250</td>\n",
       "      <td>0.0225</td>\n",
       "      <td>0.0</td>\n",
       "    </tr>\n",
       "    <tr>\n",
       "      <th>25769</th>\n",
       "      <td>112500.0</td>\n",
       "      <td>12375.0</td>\n",
       "      <td>247500.0</td>\n",
       "      <td>-16126</td>\n",
       "      <td>-1689</td>\n",
       "      <td>1</td>\n",
       "      <td>1</td>\n",
       "      <td>0</td>\n",
       "      <td>2</td>\n",
       "      <td>0</td>\n",
       "      <td>...</td>\n",
       "      <td>NaN</td>\n",
       "      <td>NaN</td>\n",
       "      <td>NaN</td>\n",
       "      <td>NaN</td>\n",
       "      <td>NaN</td>\n",
       "      <td>247500.0</td>\n",
       "      <td>0.097665</td>\n",
       "      <td>0.0250</td>\n",
       "      <td>0.0250</td>\n",
       "      <td>0.0</td>\n",
       "    </tr>\n",
       "    <tr>\n",
       "      <th>244555</th>\n",
       "      <td>315000.0</td>\n",
       "      <td>29340.0</td>\n",
       "      <td>540000.0</td>\n",
       "      <td>-16606</td>\n",
       "      <td>-133</td>\n",
       "      <td>0</td>\n",
       "      <td>1</td>\n",
       "      <td>0</td>\n",
       "      <td>2</td>\n",
       "      <td>0</td>\n",
       "      <td>...</td>\n",
       "      <td>NaN</td>\n",
       "      <td>NaN</td>\n",
       "      <td>NaN</td>\n",
       "      <td>NaN</td>\n",
       "      <td>NaN</td>\n",
       "      <td>753840.0</td>\n",
       "      <td>0.174152</td>\n",
       "      <td>0.0175</td>\n",
       "      <td>0.0175</td>\n",
       "      <td>0.0</td>\n",
       "    </tr>\n",
       "    <tr>\n",
       "      <th>232212</th>\n",
       "      <td>157500.0</td>\n",
       "      <td>30942.0</td>\n",
       "      <td>787500.0</td>\n",
       "      <td>-13491</td>\n",
       "      <td>-384</td>\n",
       "      <td>1</td>\n",
       "      <td>1</td>\n",
       "      <td>0</td>\n",
       "      <td>2</td>\n",
       "      <td>0</td>\n",
       "      <td>...</td>\n",
       "      <td>NaN</td>\n",
       "      <td>NaN</td>\n",
       "      <td>NaN</td>\n",
       "      <td>NaN</td>\n",
       "      <td>NaN</td>\n",
       "      <td>787500.0</td>\n",
       "      <td>0.090203</td>\n",
       "      <td>0.0175</td>\n",
       "      <td>0.0175</td>\n",
       "      <td>0.0</td>\n",
       "    </tr>\n",
       "    <tr>\n",
       "      <th>63224</th>\n",
       "      <td>45000.0</td>\n",
       "      <td>19300.5</td>\n",
       "      <td>225000.0</td>\n",
       "      <td>-16526</td>\n",
       "      <td>-80</td>\n",
       "      <td>1</td>\n",
       "      <td>1</td>\n",
       "      <td>0</td>\n",
       "      <td>3</td>\n",
       "      <td>0</td>\n",
       "      <td>...</td>\n",
       "      <td>NaN</td>\n",
       "      <td>NaN</td>\n",
       "      <td>NaN</td>\n",
       "      <td>NaN</td>\n",
       "      <td>NaN</td>\n",
       "      <td>269550.0</td>\n",
       "      <td>0.434243</td>\n",
       "      <td>0.0250</td>\n",
       "      <td>0.0250</td>\n",
       "      <td>0.0</td>\n",
       "    </tr>\n",
       "  </tbody>\n",
       "</table>\n",
       "<p>61407 rows × 391 columns</p>\n",
       "</div>"
      ],
      "text/plain": [
       "        AMT_INCOME_TOTAL  AMT_ANNUITY  AMT_GOODS_PRICE  DAYS_BIRTH  \\\n",
       "239412          202500.0      45400.5         733500.0      -15691   \n",
       "126640          135000.0       9000.0         180000.0      -15585   \n",
       "152516          166500.0      19417.5         270000.0      -10432   \n",
       "228986          157500.0      35806.5         450000.0       -9961   \n",
       "184378           54000.0      10849.5         225000.0      -20707   \n",
       "...                  ...          ...              ...         ...   \n",
       "128930          292500.0      42561.0         396000.0      -11442   \n",
       "25769           112500.0      12375.0         247500.0      -16126   \n",
       "244555          315000.0      29340.0         540000.0      -16606   \n",
       "232212          157500.0      30942.0         787500.0      -13491   \n",
       "63224            45000.0      19300.5         225000.0      -16526   \n",
       "\n",
       "        DAYS_ID_PUBLISH  FLAG_WORK_PHONE  FLAG_CONT_MOBILE  FLAG_EMAIL  \\\n",
       "239412            -4596                0                 1           0   \n",
       "126640            -4351                0                 1           0   \n",
       "152516            -2665                0                 1           0   \n",
       "228986            -2365                0                 1           0   \n",
       "184378            -2891                0                 1           0   \n",
       "...                 ...              ...               ...         ...   \n",
       "128930            -3426                0                 1           0   \n",
       "25769             -1689                1                 1           0   \n",
       "244555             -133                0                 1           0   \n",
       "232212             -384                1                 1           0   \n",
       "63224               -80                1                 1           0   \n",
       "\n",
       "        REGION_RATING_CLIENT  REG_REGION_NOT_LIVE_REGION  ...  \\\n",
       "239412                     2                           0  ...   \n",
       "126640                     2                           0  ...   \n",
       "152516                     2                           0  ...   \n",
       "228986                     2                           0  ...   \n",
       "184378                     2                           0  ...   \n",
       "...                      ...                         ...  ...   \n",
       "128930                     2                           0  ...   \n",
       "25769                      2                           0  ...   \n",
       "244555                     2                           0  ...   \n",
       "232212                     2                           0  ...   \n",
       "63224                      3                           0  ...   \n",
       "\n",
       "        CC_NAME_CONTRACT_STATUS_Sent_proposal_MEAN  \\\n",
       "239412                                         0.0   \n",
       "126640                                         NaN   \n",
       "152516                                         NaN   \n",
       "228986                                         NaN   \n",
       "184378                                         NaN   \n",
       "...                                            ...   \n",
       "128930                                         NaN   \n",
       "25769                                          NaN   \n",
       "244555                                         NaN   \n",
       "232212                                         NaN   \n",
       "63224                                          NaN   \n",
       "\n",
       "        CC_NAME_CONTRACT_STATUS_Sent_proposal_VAR  \\\n",
       "239412                                        0.0   \n",
       "126640                                        NaN   \n",
       "152516                                        NaN   \n",
       "228986                                        NaN   \n",
       "184378                                        NaN   \n",
       "...                                           ...   \n",
       "128930                                        NaN   \n",
       "25769                                         NaN   \n",
       "244555                                        NaN   \n",
       "232212                                        NaN   \n",
       "63224                                         NaN   \n",
       "\n",
       "        CC_NAME_CONTRACT_STATUS_Signed_MIN  \\\n",
       "239412                                 0.0   \n",
       "126640                                 NaN   \n",
       "152516                                 NaN   \n",
       "228986                                 NaN   \n",
       "184378                                 NaN   \n",
       "...                                    ...   \n",
       "128930                                 NaN   \n",
       "25769                                  NaN   \n",
       "244555                                 NaN   \n",
       "232212                                 NaN   \n",
       "63224                                  NaN   \n",
       "\n",
       "        CC_NAME_CONTRACT_STATUS_Signed_MAX  \\\n",
       "239412                                 0.0   \n",
       "126640                                 NaN   \n",
       "152516                                 NaN   \n",
       "228986                                 NaN   \n",
       "184378                                 NaN   \n",
       "...                                    ...   \n",
       "128930                                 NaN   \n",
       "25769                                  NaN   \n",
       "244555                                 NaN   \n",
       "232212                                 NaN   \n",
       "63224                                  NaN   \n",
       "\n",
       "        CC_NAME_CONTRACT_STATUS_Signed_SUM  AMT_CREDIT     SCORE  INTERES  \\\n",
       "239412                                 0.0    849685.5  0.087264   0.0175   \n",
       "126640                                 NaN    180000.0  0.086862   0.0250   \n",
       "152516                                 NaN    355536.0  0.770657   0.0250   \n",
       "228986                                 NaN    592560.0  0.370534   0.0250   \n",
       "184378                                 NaN    284400.0  0.252475   0.0250   \n",
       "...                                    ...         ...       ...      ...   \n",
       "128930                                 NaN    462645.0  0.581286   0.0250   \n",
       "25769                                  NaN    247500.0  0.097665   0.0250   \n",
       "244555                                 NaN    753840.0  0.174152   0.0175   \n",
       "232212                                 NaN    787500.0  0.090203   0.0175   \n",
       "63224                                  NaN    269550.0  0.434243   0.0250   \n",
       "\n",
       "        INTERES_MOD_down  default_fix  \n",
       "239412            0.0175          0.0  \n",
       "126640            0.0250          0.0  \n",
       "152516            0.0250          0.0  \n",
       "228986            0.0250          0.0  \n",
       "184378            0.0250          0.0  \n",
       "...                  ...          ...  \n",
       "128930            0.0225          0.0  \n",
       "25769             0.0250          0.0  \n",
       "244555            0.0175          0.0  \n",
       "232212            0.0175          0.0  \n",
       "63224             0.0250          0.0  \n",
       "\n",
       "[61407 rows x 391 columns]"
      ]
     },
     "execution_count": 128,
     "metadata": {},
     "output_type": "execute_result"
    }
   ],
   "source": [
    "X_test_p"
   ]
  },
  {
   "cell_type": "markdown",
   "metadata": {},
   "source": [
    "Comprobamos que son diferentes algunos casos entre las variables de interés e interés modificado."
   ]
  },
  {
   "cell_type": "code",
   "execution_count": 129,
   "metadata": {},
   "outputs": [
    {
     "data": {
      "text/plain": [
       "3.866249999999924"
      ]
     },
     "execution_count": 129,
     "metadata": {},
     "output_type": "execute_result"
    }
   ],
   "source": [
    "sum(X_test_p['INTERES'] - X_test_p['INTERES_MOD_down'])"
   ]
  },
  {
   "cell_type": "code",
   "execution_count": 130,
   "metadata": {},
   "outputs": [],
   "source": [
    "y_test_down = y_test.copy()"
   ]
  },
  {
   "cell_type": "code",
   "execution_count": 131,
   "metadata": {},
   "outputs": [],
   "source": [
    "X_test_p['score_down'] = X_test_p['SCORE'] - X_test_p['default_fix']"
   ]
  },
  {
   "cell_type": "code",
   "execution_count": 132,
   "metadata": {},
   "outputs": [],
   "source": [
    "corte = 0.5773235688911703\n",
    "corte_down = corte\n",
    "corte_up = max_risk"
   ]
  },
  {
   "cell_type": "markdown",
   "metadata": {},
   "source": [
    "Número de casos según el target en los cuales se les ha reducido el tipo de interés y han quedado con probabilidad inferior al corte. Había originalmente 1 caso que pagaba y 7 que impagaban."
   ]
  },
  {
   "cell_type": "code",
   "execution_count": 133,
   "metadata": {},
   "outputs": [
    {
     "data": {
      "text/plain": [
       "<matplotlib.axes._subplots.AxesSubplot at 0x143dc6fbbc8>"
      ]
     },
     "execution_count": 133,
     "metadata": {},
     "output_type": "execute_result"
    },
    {
     "data": {
      "image/png": "[encoded data removed]",
      "text/plain": [
       "<Figure size 432x288 with 1 Axes>"
      ]
     },
     "metadata": {
      "needs_background": "light"
     },
     "output_type": "display_data"
    }
   ],
   "source": [
    "y_test_down[(X_test_p['default_fix'] > 0) & (X_test_p['score_down'] < corte_down)].hist()"
   ]
  },
  {
   "cell_type": "markdown",
   "metadata": {},
   "source": [
    "Cambio a 0 en el target para los casos que se han visto anteriormente. No todos cambian, sólo los que cometían impago, los otros se mantienen pagando con un interés menor."
   ]
  },
  {
   "cell_type": "code",
   "execution_count": 134,
   "metadata": {},
   "outputs": [],
   "source": [
    "y_test_down[(X_test_p['default_fix'] > 0) & (X_test_p['score_down'] < corte_down)] = 0"
   ]
  },
  {
   "cell_type": "markdown",
   "metadata": {},
   "source": [
    "Ahora los 8 casos que se encontraban en esa situación tienen target 0, en comparación al único caso que pagaba sin realizar el cambio."
   ]
  },
  {
   "cell_type": "code",
   "execution_count": 135,
   "metadata": {},
   "outputs": [
    {
     "data": {
      "text/plain": [
       "<matplotlib.axes._subplots.AxesSubplot at 0x143dc789c48>"
      ]
     },
     "execution_count": 135,
     "metadata": {},
     "output_type": "execute_result"
    },
    {
     "data": {
      "image/png": "[encoded data removed]",
      "text/plain": [
       "<Figure size 432x288 with 1 Axes>"
      ]
     },
     "metadata": {
      "needs_background": "light"
     },
     "output_type": "display_data"
    }
   ],
   "source": [
    "y_test_down[(X_test_p['default_fix'] > 0) & (X_test_p['score_down'] < corte_down)].hist()"
   ]
  },
  {
   "cell_type": "markdown",
   "metadata": {},
   "source": [
    "Variación de distribución en el target tras el cambio realizado. No se aprecia diferencia debido a que han sido pocos casos los que han cambiado de 1 a 0."
   ]
  },
  {
   "cell_type": "code",
   "execution_count": 136,
   "metadata": {},
   "outputs": [
    {
     "data": {
      "text/plain": [
       "<matplotlib.axes._subplots.AxesSubplot at 0x143dc87aa08>"
      ]
     },
     "execution_count": 136,
     "metadata": {},
     "output_type": "execute_result"
    },
    {
     "data": {
      "image/png": "[encoded data removed]",
      "text/plain": [
       "<Figure size 432x288 with 1 Axes>"
      ]
     },
     "metadata": {
      "needs_background": "light"
     },
     "output_type": "display_data"
    }
   ],
   "source": [
    "y_test_down[(X_test_p['default_fix'] > 0)].hist()"
   ]
  },
  {
   "cell_type": "markdown",
   "metadata": {},
   "source": [
    "Nueva métrica de negocio, es igual que la anterior pero sin realizar optimización."
   ]
  },
  {
   "cell_type": "code",
   "execution_count": 81,
   "metadata": {},
   "outputs": [],
   "source": [
    "def objective_param(corte, v_amount, v_annuity, v_interest, y_test, y_pred):\n",
    "        cost = 0\n",
    "        for idx, probs in enumerate(y_pred):\n",
    "            amount = v_amount.iloc[idx]\n",
    "            interest = v_interest.iloc[idx]\n",
    "            annuity = v_annuity.iloc[idx]\n",
    "            years = -np.log(-amount*interest/annuity + 1) / np.log(1 + interest)\n",
    "            total_interest = years*annuity - amount\n",
    "            \n",
    "            if probs <= corte:\n",
    "                pred=0\n",
    "\n",
    "                if y_test.iloc[idx]==1:\n",
    "                    cost += 0.7 * amount + 0.6 * total_interest\n",
    "\n",
    "                else:\n",
    "                    cost -= total_interest\n",
    "\n",
    "            if probs > corte:\n",
    "                pred=1\n",
    "\n",
    "                if y_test.iloc[idx]==0:\n",
    "                    cost += total_interest\n",
    "\n",
    "                else:\n",
    "                    cost -= 0.7 * amount + 0.6 * total_interest\n",
    "\n",
    "\n",
    "        return {'loss': cost, 'params': corte, 'status': STATUS_OK}"
   ]
  },
  {
   "cell_type": "code",
   "execution_count": 82,
   "metadata": {},
   "outputs": [],
   "source": [
    "v_amount = X_test_p['AMT_CREDIT']\n",
    "v_annuity = X_test_p['AMT_ANNUITY']\n",
    "interest_up = X_test_p['INTERES_MOD_up']\n",
    "interest_down = X_test_p['INTERES_MOD_down']\n",
    "interest_real = X_test_p['INTERES']"
   ]
  },
  {
   "cell_type": "code",
   "execution_count": 83,
   "metadata": {},
   "outputs": [],
   "source": [
    "y_pred = pickle_model.predict_proba(X_test)[:,1]"
   ]
  },
  {
   "cell_type": "code",
   "execution_count": 85,
   "metadata": {},
   "outputs": [],
   "source": [
    "coste_down = objective_param(corte_down, v_amount, v_annuity, interest_down, y_test_down, y_pred)"
   ]
  },
  {
   "cell_type": "markdown",
   "metadata": {},
   "source": [
    "Se obtiene mayor beneficio que sólo con la métrica de negocio sin pricing."
   ]
  },
  {
   "cell_type": "code",
   "execution_count": 87,
   "metadata": {},
   "outputs": [
    {
     "data": {
      "text/plain": [
       "{'loss': -12527177147.351381, 'params': 0.5773235688911703, 'status': 'ok'}"
      ]
     },
     "execution_count": 87,
     "metadata": {},
     "output_type": "execute_result"
    }
   ],
   "source": [
    "coste_down"
   ]
  },
  {
   "cell_type": "markdown",
   "metadata": {},
   "source": [
    "Validamos que con el corte obtenido tras la optimización el valor del beneficio es el mismo. Por lo tanto la función está bien ejecutada."
   ]
  },
  {
   "cell_type": "code",
   "execution_count": 88,
   "metadata": {},
   "outputs": [
    {
     "data": {
      "text/plain": [
       "{'loss': -12502273592.723858, 'params': 0.5773235688911703, 'status': 'ok'}"
      ]
     },
     "execution_count": 88,
     "metadata": {},
     "output_type": "execute_result"
    }
   ],
   "source": [
    "objective_param(corte, v_amount, v_annuity, interest_real, y_test, y_pred)"
   ]
  },
  {
   "cell_type": "code",
   "execution_count": 90,
   "metadata": {},
   "outputs": [
    {
     "name": "stdout",
     "output_type": "stream",
     "text": [
      "100%|███████████████████████████████████████████████| 50/50 [01:38<00:00,  1.96s/trial, best loss: -12502273592.723858]\n"
     ]
    }
   ],
   "source": [
    "validacion = optimizacion_continua(prueba_prediccion)"
   ]
  }
 ],
 "metadata": {
  "kernelspec": {
   "display_name": "Python 3",
   "language": "python",
   "name": "python3"
  },
  "language_info": {
   "codemirror_mode": {
    "name": "ipython",
    "version": 3
   },
   "file_extension": ".py",
   "mimetype": "text/x-python",
   "name": "python",
   "nbconvert_exporter": "python",
   "pygments_lexer": "ipython3",
   "version": "3.7.4"
  }
 },
 "nbformat": 4,
 "nbformat_minor": 4
}
