{
 "cells": [
  {
   "cell_type": "markdown",
   "metadata": {},
   "source": [
    "# MODELADO DISTRIBUIDO"
   ]
  },
  {
   "cell_type": "markdown",
   "metadata": {},
   "source": [
    "# INFO"
   ]
  },
  {
   "cell_type": "markdown",
   "metadata": {},
   "source": [
    "El objetivo de este _notebook_ es el modelado en distribuido."
   ]
  },
  {
   "cell_type": "markdown",
   "metadata": {},
   "source": [
    "# LIBRERIAS"
   ]
  },
  {
   "cell_type": "code",
   "execution_count": 1,
   "metadata": {},
   "outputs": [
    {
     "name": "stderr",
     "output_type": "stream",
     "text": [
      "C:\\Users\\Beltran\\Anaconda3\\lib\\site-packages\\statsmodels\\tools\\_testing.py:19: FutureWarning: pandas.util.testing is deprecated. Use the functions in the public API at pandas.testing instead.\n",
      "  import pandas.util.testing as tm\n"
     ]
    }
   ],
   "source": [
    "import pandas as pd\n",
    "import numpy as np\n",
    "import matplotlib.pyplot as plt\n",
    "from lightgbm import LGBMClassifier\n",
    "from sklearn.model_selection import train_test_split\n",
    "from sklearn import datasets\n",
    "from sklearn.tree import DecisionTreeClassifier\n",
    "from sklearn.neighbors import KNeighborsClassifier\n",
    "from sklearn.svm import SVC\n",
    "from itertools import product\n",
    "from sklearn.ensemble import VotingClassifier\n",
    "from sklearn import model_selection\n",
    "from sklearn.ensemble import GradientBoostingClassifier\n",
    "import pickle\n",
    "from sklearn.metrics import accuracy_score\n",
    "from numpy import mean\n",
    "from sklearn.metrics import f1_score\n",
    "import seaborn as sns # plots\n",
    "from scipy import stats as sts # normality test JB\n",
    "from sklearn import model_selection\n",
    "from sklearn import linear_model\n",
    "from sklearn import metrics\n",
    "from sklearn.linear_model import Ridge, RidgeCV # Ridge\n",
    "from sklearn.linear_model import Lasso, LassoCV # Lasso\n",
    "from sklearn.linear_model import LogisticRegression # Log Regression\n",
    "from sklearn.metrics import r2_score # R^2\n",
    "from sklearn.metrics import mean_squared_error # MSE\n",
    "from sklearn import preprocessing # estandarization\n",
    "from sklearn.ensemble import IsolationForest # outliers\n",
    "from math import sqrt # sqrt\n",
    "import itertools # aplanar arrays\n",
    "import math\n",
    "from sklearn.svm import SVC # SVM\n",
    "from sklearn.metrics import classification_report, confusion_matrix\n",
    "from sklearn.ensemble import RandomForestRegressor, RandomForestClassifier\n",
    "import xgboost as xgb # XGBOOST\n",
    "from sklearn.metrics import roc_curve, roc_auc_score, plot_roc_curve # ROC Curve\n",
    "from sklearn.datasets import make_classification\n",
    "import random"
   ]
  },
  {
   "cell_type": "code",
   "execution_count": 3,
   "metadata": {},
   "outputs": [],
   "source": [
    "from imblearn.under_sampling import RandomUnderSampler\n",
    "from sklearn.utils import shuffle\n",
    "from sklearn.metrics import make_scorer"
   ]
  },
  {
   "cell_type": "code",
   "execution_count": 4,
   "metadata": {},
   "outputs": [],
   "source": [
    "import winsound"
   ]
  },
  {
   "cell_type": "code",
   "execution_count": 5,
   "metadata": {},
   "outputs": [],
   "source": [
    "def conf_matrix(Y_test, Y_pred):\n",
    "    labels = ['False', 'True']\n",
    "    cnf_matrix_tra = confusion_matrix(Y_test, Y_pred)\n",
    "    conf_plot = sns.heatmap(cnf_matrix_tra, annot=True, cmap='Blues', fmt='g', xticklabels=labels, yticklabels=labels)\n",
    "    bottom, top = conf_plot.get_ylim()\n",
    "    conf_plot.set_ylim(bottom + 0.5, top - 0.5)\n",
    "    conf_plot.set_title(\"Confusion matrix, without normalization\")\n",
    "    conf_plot.set_ylabel('True Label')\n",
    "    conf_plot.set_xlabel('Predicted Label');"
   ]
  },
  {
   "cell_type": "code",
   "execution_count": 6,
   "metadata": {},
   "outputs": [],
   "source": [
    "def features_importence(coeficients):\n",
    "    data = {'Features':X_train.columns, 'Coeficients':abs(coeficients)} \n",
    "    coef = pd.DataFrame(data).sort_values(by=['Coeficients'], ascending=False)\n",
    "    fig, ax = plt.subplots(figsize=(12,10))\n",
    "    coef_plot = sns.barplot(coef['Features'],coef['Coeficients'])\n",
    "    coef_plot.set_xticklabels(coef_plot.get_xticklabels(), rotation=40, ha=\"right\");"
   ]
  },
  {
   "cell_type": "code",
   "execution_count": 7,
   "metadata": {},
   "outputs": [],
   "source": [
    "data_path = \"../data/application_train.csv\""
   ]
  },
  {
   "cell_type": "markdown",
   "metadata": {},
   "source": [
    "## Lectura de datos procesados"
   ]
  },
  {
   "cell_type": "code",
   "execution_count": 8,
   "metadata": {},
   "outputs": [],
   "source": [
    "with open(\"../data/variables_edaspy.txt\", \"rb\") as fp:\n",
    "    EDA_features = pickle.load(fp)"
   ]
  },
  {
   "cell_type": "code",
   "execution_count": 9,
   "metadata": {},
   "outputs": [],
   "source": [
    "datos = pd.read_csv('../data/datos_procesados.csv')"
   ]
  },
  {
   "cell_type": "code",
   "execution_count": 10,
   "metadata": {},
   "outputs": [],
   "source": [
    "datos = datos[EDA_features]"
   ]
  },
  {
   "cell_type": "code",
   "execution_count": 11,
   "metadata": {},
   "outputs": [
    {
     "data": {
      "text/plain": [
       "388"
      ]
     },
     "execution_count": 11,
     "metadata": {},
     "output_type": "execute_result"
    }
   ],
   "source": [
    "len(datos.columns)"
   ]
  },
  {
   "cell_type": "code",
   "execution_count": 12,
   "metadata": {},
   "outputs": [],
   "source": [
    "variables = []\n",
    "for var in datos.columns:\n",
    "    variables.append(var.replace(\" \", \"_\"))"
   ]
  },
  {
   "cell_type": "code",
   "execution_count": 13,
   "metadata": {},
   "outputs": [],
   "source": [
    "datos.columns = variables"
   ]
  },
  {
   "cell_type": "markdown",
   "metadata": {},
   "source": [
    "## Métrica"
   ]
  },
  {
   "cell_type": "markdown",
   "metadata": {},
   "source": [
    "Para poder evaluar nuestro modelo en base a la métrica de negocio hay que elimiar de la muestra los registros con los que tenemos valores imposibles en la formula del cálculo"
   ]
  },
  {
   "cell_type": "code",
   "execution_count": 14,
   "metadata": {},
   "outputs": [],
   "source": [
    "# Eliminacion de 12 registros con NAs\n",
    "datos = datos[datos['AMT_ANNUITY'].notna()]"
   ]
  },
  {
   "cell_type": "code",
   "execution_count": 15,
   "metadata": {},
   "outputs": [],
   "source": [
    "# Establecemos el interes en funcion de la cantidad pedida\n",
    "def interes(cantidad):\n",
    "    if((cantidad <= 80000)):\n",
    "        return 0.06\n",
    "\n",
    "    elif((cantidad > 80000) & (cantidad <= 150000)):\n",
    "        return 0.04\n",
    "\n",
    "    elif((cantidad > 150000) & (cantidad <= 650000)):\n",
    "        return 0.025\n",
    "\n",
    "    else:\n",
    "        return 0.0175"
   ]
  },
  {
   "cell_type": "code",
   "execution_count": 16,
   "metadata": {},
   "outputs": [],
   "source": [
    "# Los errores se producen cuando al calcular el numero de años de amortizacion del crédito\n",
    "# En ciertos registros la anualidad de los pagos es menor a los intereses del préstamo\n",
    "intereses = -datos['AMT_CREDIT'] * datos['AMT_CREDIT'].map(lambda x: interes(x))"
   ]
  },
  {
   "cell_type": "code",
   "execution_count": 17,
   "metadata": {},
   "outputs": [],
   "source": [
    "errores = abs(intereses) >= datos['AMT_ANNUITY']"
   ]
  },
  {
   "cell_type": "code",
   "execution_count": 18,
   "metadata": {},
   "outputs": [
    {
     "data": {
      "text/plain": [
       "461"
      ]
     },
     "execution_count": 18,
     "metadata": {},
     "output_type": "execute_result"
    }
   ],
   "source": [
    "sum(errores)"
   ]
  },
  {
   "cell_type": "markdown",
   "metadata": {},
   "source": [
    "Si hacemos un analisis de estos datos que nos condicionan nuestra métrica de beneficio podemos ver como se centran sobre todo en préstamos de bajo importe y con una tasa de impago menor (5.2%) a la de la muestra general (8.1%). Es posible que estos préstamos tengan condiciones especiales como un tipo de interes muy bajo por ser miembros de la entidad o clientes preferentes."
   ]
  },
  {
   "cell_type": "code",
   "execution_count": 19,
   "metadata": {},
   "outputs": [],
   "source": [
    "errores_df = datos.loc[errores.index[errores==True],['AMT_CREDIT', 'AMT_ANNUITY', 'TARGET']]"
   ]
  },
  {
   "cell_type": "code",
   "execution_count": 20,
   "metadata": {},
   "outputs": [
    {
     "data": {
      "text/plain": [
       "5.206073752711497"
      ]
     },
     "execution_count": 20,
     "metadata": {},
     "output_type": "execute_result"
    }
   ],
   "source": [
    "(errores_df.TARGET.sum()/len(errores_df))*100"
   ]
  },
  {
   "cell_type": "code",
   "execution_count": 21,
   "metadata": {},
   "outputs": [
    {
     "data": {
      "text/html": [
       "<div>\n",
       "<style scoped>\n",
       "    .dataframe tbody tr th:only-of-type {\n",
       "        vertical-align: middle;\n",
       "    }\n",
       "\n",
       "    .dataframe tbody tr th {\n",
       "        vertical-align: top;\n",
       "    }\n",
       "\n",
       "    .dataframe thead th {\n",
       "        text-align: right;\n",
       "    }\n",
       "</style>\n",
       "<table border=\"1\" class=\"dataframe\">\n",
       "  <thead>\n",
       "    <tr style=\"text-align: right;\">\n",
       "      <th></th>\n",
       "      <th>AMT_CREDIT</th>\n",
       "      <th>AMT_ANNUITY</th>\n",
       "      <th>TARGET</th>\n",
       "    </tr>\n",
       "  </thead>\n",
       "  <tbody>\n",
       "    <tr>\n",
       "      <th>214</th>\n",
       "      <td>76410.0</td>\n",
       "      <td>4513.5</td>\n",
       "      <td>0</td>\n",
       "    </tr>\n",
       "    <tr>\n",
       "      <th>1846</th>\n",
       "      <td>50940.0</td>\n",
       "      <td>2974.5</td>\n",
       "      <td>0</td>\n",
       "    </tr>\n",
       "    <tr>\n",
       "      <th>1995</th>\n",
       "      <td>130824.0</td>\n",
       "      <td>5062.5</td>\n",
       "      <td>1</td>\n",
       "    </tr>\n",
       "    <tr>\n",
       "      <th>2103</th>\n",
       "      <td>66384.0</td>\n",
       "      <td>3730.5</td>\n",
       "      <td>0</td>\n",
       "    </tr>\n",
       "    <tr>\n",
       "      <th>2755</th>\n",
       "      <td>58500.0</td>\n",
       "      <td>2844.0</td>\n",
       "      <td>1</td>\n",
       "    </tr>\n",
       "    <tr>\n",
       "      <th>...</th>\n",
       "      <td>...</td>\n",
       "      <td>...</td>\n",
       "      <td>...</td>\n",
       "    </tr>\n",
       "    <tr>\n",
       "      <th>305335</th>\n",
       "      <td>56880.0</td>\n",
       "      <td>3393.0</td>\n",
       "      <td>0</td>\n",
       "    </tr>\n",
       "    <tr>\n",
       "      <th>305560</th>\n",
       "      <td>77031.0</td>\n",
       "      <td>4063.5</td>\n",
       "      <td>0</td>\n",
       "    </tr>\n",
       "    <tr>\n",
       "      <th>306006</th>\n",
       "      <td>76410.0</td>\n",
       "      <td>4396.5</td>\n",
       "      <td>0</td>\n",
       "    </tr>\n",
       "    <tr>\n",
       "      <th>306435</th>\n",
       "      <td>142200.0</td>\n",
       "      <td>4671.0</td>\n",
       "      <td>0</td>\n",
       "    </tr>\n",
       "    <tr>\n",
       "      <th>306796</th>\n",
       "      <td>90000.0</td>\n",
       "      <td>3523.5</td>\n",
       "      <td>0</td>\n",
       "    </tr>\n",
       "  </tbody>\n",
       "</table>\n",
       "<p>461 rows × 3 columns</p>\n",
       "</div>"
      ],
      "text/plain": [
       "        AMT_CREDIT  AMT_ANNUITY  TARGET\n",
       "214        76410.0       4513.5       0\n",
       "1846       50940.0       2974.5       0\n",
       "1995      130824.0       5062.5       1\n",
       "2103       66384.0       3730.5       0\n",
       "2755       58500.0       2844.0       1\n",
       "...            ...          ...     ...\n",
       "305335     56880.0       3393.0       0\n",
       "305560     77031.0       4063.5       0\n",
       "306006     76410.0       4396.5       0\n",
       "306435    142200.0       4671.0       0\n",
       "306796     90000.0       3523.5       0\n",
       "\n",
       "[461 rows x 3 columns]"
      ]
     },
     "execution_count": 21,
     "metadata": {},
     "output_type": "execute_result"
    }
   ],
   "source": [
    "errores_df"
   ]
  },
  {
   "cell_type": "code",
   "execution_count": 22,
   "metadata": {},
   "outputs": [
    {
     "data": {
      "text/plain": [
       "<matplotlib.axes._subplots.AxesSubplot at 0x179ffffb508>"
      ]
     },
     "execution_count": 22,
     "metadata": {},
     "output_type": "execute_result"
    },
    {
     "data": {
      "image/png": "[encoded data removed]",
      "text/plain": [
       "<Figure size 432x288 with 1 Axes>"
      ]
     },
     "metadata": {
      "needs_background": "light"
     },
     "output_type": "display_data"
    }
   ],
   "source": [
    "errores_df['AMT_CREDIT'].hist()"
   ]
  },
  {
   "cell_type": "code",
   "execution_count": 23,
   "metadata": {},
   "outputs": [],
   "source": [
    "# Elimino los errores de la muestra\n",
    "datos = datos[abs(intereses) < datos['AMT_ANNUITY']]"
   ]
  },
  {
   "cell_type": "markdown",
   "metadata": {},
   "source": [
    "Establecemos la métrica del modelo como el beneficio empresarial de los préstamos concedidos por el modelo. Esta métrica se obtiene a partir de la matriz de confusión generada en una muestra de validación del 20% y en base a unas condiciones de costes y beneficios preestablecidas según los aciertos y fallos del modelo (TP, TN, FP, FN)."
   ]
  },
  {
   "cell_type": "code",
   "execution_count": 24,
   "metadata": {},
   "outputs": [],
   "source": [
    "def my_metric(y_test, y_pred):\n",
    "    cost = 0\n",
    "    \n",
    "    # Establecemos 4 tramos de tipos de interés en funcion del importe concedido del préstamos,\n",
    "    # los tipos han sido seleccionados a partir de comparadores online de préstamos bancarios\n",
    "    # para diferentes modalidades de préstamo e importe en EsPaña.\n",
    "    \n",
    "    def interes(cantidad):\n",
    "\n",
    "        if((cantidad <= 80000)):\n",
    "            return 0.06\n",
    "\n",
    "        elif((cantidad > 80000) & (cantidad <= 150000)):\n",
    "            return 0.04\n",
    "\n",
    "        elif((cantidad > 150000) & (cantidad <= 650000)):\n",
    "            return 0.025\n",
    "\n",
    "        else:\n",
    "            return 0.0175\n",
    "    \n",
    "    for idx, pred in enumerate(y_pred):\n",
    "        \n",
    "        # Supongo que la anualidad tiene ya incoporado el tipo de interes que tiene que pagar\n",
    "        # el cliente. Como la base de datos no aporta informacion del tipo de interes hago una \n",
    "        # suposicion del tipo de interés en funcion del tamaño del prestamo y calculo el tiempo\n",
    "        # de amortización (años) del prestamo\n",
    "        \n",
    "        # Una vez calculado el tiempo de duracion del prestamo realizo la diferencia entre las \n",
    "        # suma de todas las anualidades y el importe del prestamo para obtener los intereses\n",
    "        # totales que pagaría el cliente\n",
    "        \n",
    "        amount = X_test.iloc[idx, X_test.columns.get_loc('AMT_CREDIT')]\n",
    "        annuity = X_test.iloc[idx, X_test.columns.get_loc('AMT_ANNUITY')]\n",
    "        \n",
    "        # formula sacada y despejada de aqui: \n",
    "        # https://blogs.udima.es/administracion-y-direccion-de-empresas/amortizacion-con-terminos-amortizativos-constantes-metodo-frances-i-p27-htm/\n",
    "\n",
    "        years = -np.log(-amount*interes(amount)/annuity + 1) / np.log(1 + interes(amount))\n",
    "        \n",
    "        total_interest = years*annuity - amount\n",
    "        \n",
    "        if (pred==0) & (y_test.iloc[idx]==1):\n",
    "            # pierdo el 40% del principal + el 20% de los intereses, damos por hecho que en cada cuota\n",
    "            # se van pagando principal e intereses segun un prestamo frances (cuota contante)\n",
    "            \n",
    "            cost += 0.5 * amount + 0.4 * total_interest\n",
    "            \n",
    "        elif (pred==0) & (y_test.iloc[idx]==0):\n",
    "            \n",
    "            cost -= total_interest\n",
    "        \n",
    "        elif (pred==1) & (y_test.iloc[idx]==0):\n",
    "            \n",
    "            cost += total_interest\n",
    "        \n",
    "        else:\n",
    "            # gano los interes del prestamo + no haber perdido ese 50% del principal\n",
    "            # que dejan de pagar los morosos\n",
    "            cost -= 0.5 * amount + 0.4 * total_interest\n",
    "    \n",
    "    return cost\n"
   ]
  },
  {
   "cell_type": "markdown",
   "metadata": {},
   "source": [
    "Para poder comparar si el modelo tiene efectividad se compara con el beneficio esperado del 20% de validación aplicando las mismas condiciones de costes y beneficios."
   ]
  },
  {
   "cell_type": "code",
   "execution_count": 25,
   "metadata": {},
   "outputs": [],
   "source": [
    "def metrica_sin_modelo(y_test):\n",
    "    cost=0\n",
    "    \n",
    "    def interes(cantidad):\n",
    "        if((cantidad <= 80000)):\n",
    "            return 0.06\n",
    "\n",
    "        elif((cantidad > 80000) & (cantidad <= 150000)):\n",
    "            return 0.04\n",
    "\n",
    "        elif((cantidad > 150000) & (cantidad <= 650000)):\n",
    "            return 0.025\n",
    "\n",
    "        else:\n",
    "            return 0.0175\n",
    "    \n",
    "    for idx, pred in enumerate(y_test):\n",
    "        \n",
    "        amount = X_test.iloc[idx, X_test.columns.get_loc('AMT_CREDIT')]\n",
    "        annuity = X_test.iloc[idx, X_test.columns.get_loc('AMT_ANNUITY')]\n",
    "\n",
    "        years = -np.log(-amount*interes(amount)/annuity + 1) / np.log(1 + interes(amount))\n",
    "        \n",
    "        total_interest = years*annuity - amount\n",
    "        \n",
    "        if pred==0:\n",
    "            \n",
    "            cost -= total_interest\n",
    "            \n",
    "        else:\n",
    "            cost += 0.5 * amount + 0.4 * total_interest\n",
    "    \n",
    "    return cost"
   ]
  },
  {
   "cell_type": "code",
   "execution_count": 26,
   "metadata": {},
   "outputs": [],
   "source": [
    "my_score = make_scorer(my_metric, greater_is_better=False)"
   ]
  },
  {
   "cell_type": "markdown",
   "metadata": {},
   "source": [
    "Para el entrenamiento de los modelos y métrica a optimizar elegimos el uso de la siguiente métrica:\n",
    "$\\sqrt{F_1(minoritario) * F_1(mayoritario)}$\n",
    "\n",
    "Con esta métrica icluímos una importancia equivalente a la predicción de ambas categorías del target. A partir de aqui nos referiremos a esta métrica como *F1_geom*"
   ]
  },
  {
   "cell_type": "code",
   "execution_count": 27,
   "metadata": {},
   "outputs": [],
   "source": [
    "def f1_geom(y_test, y_pred):\n",
    "    metric = (f1_score(y_test, y_pred, pos_label=0) * f1_score(y_test, y_pred, pos_label=1))**(1/2)\n",
    "    return metric"
   ]
  },
  {
   "cell_type": "code",
   "execution_count": 28,
   "metadata": {},
   "outputs": [],
   "source": [
    "geom_f1_score = make_scorer(f1_geom, greater_is_better=True)"
   ]
  },
  {
   "cell_type": "markdown",
   "metadata": {},
   "source": [
    "# Folds"
   ]
  },
  {
   "cell_type": "code",
   "execution_count": 29,
   "metadata": {},
   "outputs": [],
   "source": [
    "Train, Test = train_test_split(datos, test_size=0.20, random_state=10, shuffle=True, stratify=datos['TARGET'])"
   ]
  },
  {
   "cell_type": "code",
   "execution_count": 30,
   "metadata": {},
   "outputs": [
    {
     "data": {
      "text/plain": [
       "19841"
      ]
     },
     "execution_count": 30,
     "metadata": {},
     "output_type": "execute_result"
    }
   ],
   "source": [
    "unos = Train[Train['TARGET'] == 1]\n",
    "len(unos)"
   ]
  },
  {
   "cell_type": "code",
   "execution_count": 31,
   "metadata": {},
   "outputs": [
    {
     "data": {
      "text/plain": [
       "225789"
      ]
     },
     "execution_count": 31,
     "metadata": {},
     "output_type": "execute_result"
    }
   ],
   "source": [
    "ceros = Train[Train['TARGET'] == 0]\n",
    "len(ceros)"
   ]
  },
  {
   "cell_type": "markdown",
   "metadata": {},
   "source": [
    "### Folds de ceros"
   ]
  },
  {
   "cell_type": "code",
   "execution_count": 32,
   "metadata": {},
   "outputs": [
    {
     "data": {
      "text/plain": [
       "11.37992036691699"
      ]
     },
     "execution_count": 32,
     "metadata": {},
     "output_type": "execute_result"
    }
   ],
   "source": [
    "len(ceros) / len(unos)"
   ]
  },
  {
   "cell_type": "code",
   "execution_count": 33,
   "metadata": {},
   "outputs": [],
   "source": [
    "def index_marks(nrows, chunk_size):\n",
    "    return range(chunk_size, math.ceil(nrows / chunk_size) * chunk_size, chunk_size)\n",
    "\n",
    "def split(dfm, chunk_size):\n",
    "    indices = index_marks(dfm.shape[0], chunk_size)\n",
    "    return np.split(dfm, indices)"
   ]
  },
  {
   "cell_type": "code",
   "execution_count": 34,
   "metadata": {},
   "outputs": [],
   "source": [
    "folds = split(ceros, len(unos))"
   ]
  },
  {
   "cell_type": "code",
   "execution_count": 35,
   "metadata": {},
   "outputs": [
    {
     "data": {
      "text/plain": [
       "12"
      ]
     },
     "execution_count": 35,
     "metadata": {},
     "output_type": "execute_result"
    }
   ],
   "source": [
    "len(folds)"
   ]
  },
  {
   "cell_type": "code",
   "execution_count": 36,
   "metadata": {},
   "outputs": [],
   "source": [
    "# elimino el ultimo que tiene menor longitud\n",
    "folds = folds[0:11]"
   ]
  },
  {
   "cell_type": "code",
   "execution_count": 37,
   "metadata": {},
   "outputs": [
    {
     "data": {
      "text/plain": [
       "11"
      ]
     },
     "execution_count": 37,
     "metadata": {},
     "output_type": "execute_result"
    }
   ],
   "source": [
    "len(folds)"
   ]
  },
  {
   "cell_type": "code",
   "execution_count": 38,
   "metadata": {},
   "outputs": [
    {
     "data": {
      "text/plain": [
       "19841"
      ]
     },
     "execution_count": 38,
     "metadata": {},
     "output_type": "execute_result"
    }
   ],
   "source": [
    "len(folds[0])"
   ]
  },
  {
   "cell_type": "code",
   "execution_count": 39,
   "metadata": {},
   "outputs": [],
   "source": [
    "# recorro los folds\n",
    "for i in range(len(folds)):\n",
    "    \n",
    "    # concateno los unos\n",
    "    folds[i] = shuffle(pd.concat([folds[i], unos]))"
   ]
  },
  {
   "cell_type": "code",
   "execution_count": 40,
   "metadata": {},
   "outputs": [
    {
     "name": "stdout",
     "output_type": "stream",
     "text": [
      "Shape: (39682, 388)\n",
      "Shape: (39682, 388)\n",
      "Shape: (39682, 388)\n",
      "Shape: (39682, 388)\n",
      "Shape: (39682, 388)\n",
      "Shape: (39682, 388)\n",
      "Shape: (39682, 388)\n",
      "Shape: (39682, 388)\n",
      "Shape: (39682, 388)\n",
      "Shape: (39682, 388)\n",
      "Shape: (39682, 388)\n"
     ]
    }
   ],
   "source": [
    "for c in folds:\n",
    "    print(\"Shape: {}\".format(c.shape))"
   ]
  },
  {
   "cell_type": "code",
   "execution_count": 78,
   "metadata": {},
   "outputs": [],
   "source": [
    "modelos = {'LGBM_1': LGBMClassifier(n_estimators=200),\n",
    "          'LGBM_2': LGBMClassifier(n_estimators=200),\n",
    "          'LGBM_3': LGBMClassifier(n_estimators=200),\n",
    "          'LGBM_4': LGBMClassifier(n_estimators=200),\n",
    "          'LGBM_5': LGBMClassifier(n_estimators=200),\n",
    "          'LGBM_6': LGBMClassifier(n_estimators=200),\n",
    "          'LGBM_7': LGBMClassifier(n_estimators=200),\n",
    "          'LGBM_8': LGBMClassifier(n_estimators=200),\n",
    "          'LGBM_9': LGBMClassifier(n_estimators=200),\n",
    "          'LGBM_10': LGBMClassifier(n_estimators=200),\n",
    "          'LGBM_11': LGBMClassifier(n_estimators=200)}"
   ]
  },
  {
   "cell_type": "code",
   "execution_count": 42,
   "metadata": {},
   "outputs": [
    {
     "data": {
      "text/plain": [
       "578       0\n",
       "79515     0\n",
       "62870     0\n",
       "11508     0\n",
       "114467    0\n",
       "         ..\n",
       "201341    0\n",
       "112939    0\n",
       "47001     0\n",
       "27188     0\n",
       "223990    0\n",
       "Name: TARGET, Length: 61408, dtype: int64"
      ]
     },
     "execution_count": 42,
     "metadata": {},
     "output_type": "execute_result"
    }
   ],
   "source": [
    "Test.TARGET"
   ]
  },
  {
   "cell_type": "code",
   "execution_count": 43,
   "metadata": {},
   "outputs": [],
   "source": [
    "def lgb_f1_score(y_pred, y_test):\n",
    "    y_test = np.round(y_test) # scikits f1 doesn't like probabilities\n",
    "    return 'f1_geom', (f1_score(y_test, y_pred, pos_label=0) * f1_score(y_test, y_pred, pos_label=1))**(1/2), True"
   ]
  },
  {
   "cell_type": "code",
   "execution_count": 79,
   "metadata": {},
   "outputs": [],
   "source": [
    "results= {}\n",
    "\n",
    "predicciones = {}\n",
    "\n",
    "for i in range(len(folds)): # itero por la lista de los folds\n",
    "    \n",
    "    model = list(modelos.items())[i][1]\n",
    "    \n",
    "    model.fit(folds[i].drop(['TARGET'], axis=1), folds[i]['TARGET']) # entrenamiento\n",
    "    \n",
    "    preds = model.predict(Test.drop(['TARGET'], axis=1)) # prediccion\n",
    "    \n",
    "    score = f1_geom(Test['TARGET'], preds) # f1 score\n",
    "    \n",
    "    predicciones[\"Modelo {}\".format(i)] = preds\n",
    "    \n",
    "    results[\"Modelo {}\".format(i)] = score"
   ]
  },
  {
   "cell_type": "code",
   "execution_count": 45,
   "metadata": {},
   "outputs": [
    {
     "data": {
      "text/plain": [
       "{'Modelo 0': 0.47852752072188215,\n",
       " 'Modelo 1': 0.47385509846740204,\n",
       " 'Modelo 2': 0.4744421602064524,\n",
       " 'Modelo 3': 0.4748836198579145,\n",
       " 'Modelo 4': 0.47466830623135575,\n",
       " 'Modelo 5': 0.47823636589339824,\n",
       " 'Modelo 6': 0.4756666774354264,\n",
       " 'Modelo 7': 0.47685611441969017,\n",
       " 'Modelo 8': 0.4766962692779098,\n",
       " 'Modelo 9': 0.4757454074300563,\n",
       " 'Modelo 10': 0.4770402939804183}"
      ]
     },
     "execution_count": 45,
     "metadata": {},
     "output_type": "execute_result"
    }
   ],
   "source": [
    "results"
   ]
  },
  {
   "cell_type": "code",
   "execution_count": 74,
   "metadata": {},
   "outputs": [],
   "source": [
    "resultados = pd.DataFrame(sum(predicciones.values()), columns=['Votings'])"
   ]
  },
  {
   "cell_type": "code",
   "execution_count": 75,
   "metadata": {},
   "outputs": [],
   "source": [
    "resultados['Final'] = np.where(resultados.Votings >=6, 1, 0)"
   ]
  },
  {
   "cell_type": "code",
   "execution_count": 83,
   "metadata": {},
   "outputs": [
    {
     "data": {
      "text/plain": [
       "0.28382597413128974"
      ]
     },
     "execution_count": 83,
     "metadata": {},
     "output_type": "execute_result"
    }
   ],
   "source": [
    "f1_score(Test['TARGET'], resultados['Final'])"
   ]
  },
  {
   "cell_type": "code",
   "execution_count": 82,
   "metadata": {},
   "outputs": [
    {
     "data": {
      "text/plain": [
       "0.4824421488264742"
      ]
     },
     "execution_count": 82,
     "metadata": {},
     "output_type": "execute_result"
    }
   ],
   "source": [
    "f1_geom(Test['TARGET'], resultados['Final'])"
   ]
  },
  {
   "cell_type": "code",
   "execution_count": 81,
   "metadata": {},
   "outputs": [
    {
     "data": {
      "image/png": "[encoded data removed]",
      "text/plain": [
       "<Figure size 432x288 with 2 Axes>"
      ]
     },
     "metadata": {
      "needs_background": "light"
     },
     "output_type": "display_data"
    }
   ],
   "source": [
    "conf_matrix(Test['TARGET'], resultados['Final'])"
   ]
  },
  {
   "cell_type": "code",
   "execution_count": 84,
   "metadata": {},
   "outputs": [
    {
     "name": "stdout",
     "output_type": "stream",
     "text": [
      "              precision    recall  f1-score   support\n",
      "\n",
      "           0       0.96      0.71      0.82     56448\n",
      "           1       0.18      0.71      0.28      4960\n",
      "\n",
      "    accuracy                           0.71     61408\n",
      "   macro avg       0.57      0.71      0.55     61408\n",
      "weighted avg       0.90      0.71      0.78     61408\n",
      "\n"
     ]
    }
   ],
   "source": [
    "print(classification_report(Test['TARGET'], resultados['Final']))"
   ]
  },
  {
   "cell_type": "code",
   "execution_count": null,
   "metadata": {},
   "outputs": [],
   "source": []
  }
 ],
 "metadata": {
  "kernelspec": {
   "display_name": "Python 3",
   "language": "python",
   "name": "python3"
  },
  "language_info": {
   "codemirror_mode": {
    "name": "ipython",
    "version": 3
   },
   "file_extension": ".py",
   "mimetype": "text/x-python",
   "name": "python",
   "nbconvert_exporter": "python",
   "pygments_lexer": "ipython3",
   "version": "3.7.4"
  }
 },
 "nbformat": 4,
 "nbformat_minor": 4
}
